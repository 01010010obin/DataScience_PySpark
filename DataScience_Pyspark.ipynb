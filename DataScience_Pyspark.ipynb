{
 "cells": [
  {
   "cell_type": "markdown",
   "id": "aa134bba-7103-4141-9bca-0fe7fd2b8cd3",
   "metadata": {
    "collapsed": true,
    "jupyter": {
     "outputs_hidden": true
    }
   },
   "source": [
    "!pip install pyspark"
   ]
  },
  {
   "cell_type": "code",
   "execution_count": 1,
   "id": "c4817b43-8693-4a16-9309-30926eea8685",
   "metadata": {},
   "outputs": [],
   "source": [
    "import pyspark"
   ]
  },
  {
   "cell_type": "code",
   "execution_count": 2,
   "id": "97d4622f-e57a-4d8a-92f8-3fb2561ca6f5",
   "metadata": {},
   "outputs": [],
   "source": [
    "from pyspark.sql import SparkSession"
   ]
  },
  {
   "cell_type": "code",
   "execution_count": 3,
   "id": "8e9c97ba-9a62-4c31-90dc-a9b20455f748",
   "metadata": {},
   "outputs": [],
   "source": [
    "spark=SparkSession.builder.appName('PySparkLesson').getOrCreate()"
   ]
  },
  {
   "cell_type": "code",
   "execution_count": 4,
   "id": "d8bffc3d-a290-4e00-8a02-12ecad6e012e",
   "metadata": {},
   "outputs": [
    {
     "data": {
      "text/html": [
       "\n",
       "            <div>\n",
       "                <p><b>SparkSession - in-memory</b></p>\n",
       "                \n",
       "        <div>\n",
       "            <p><b>SparkContext</b></p>\n",
       "\n",
       "            <p><a href=\"http://DESKTOP-QKI93QM:4040\">Spark UI</a></p>\n",
       "\n",
       "            <dl>\n",
       "              <dt>Version</dt>\n",
       "                <dd><code>v3.3.0</code></dd>\n",
       "              <dt>Master</dt>\n",
       "                <dd><code>local[*]</code></dd>\n",
       "              <dt>AppName</dt>\n",
       "                <dd><code>PySparkLesson</code></dd>\n",
       "            </dl>\n",
       "        </div>\n",
       "        \n",
       "            </div>\n",
       "        "
      ],
      "text/plain": [
       "<pyspark.sql.session.SparkSession at 0x1a01eeda710>"
      ]
     },
     "execution_count": 4,
     "metadata": {},
     "output_type": "execute_result"
    }
   ],
   "source": [
    "spark"
   ]
  },
  {
   "cell_type": "code",
   "execution_count": 5,
   "id": "a7898c90-1c85-4cde-b7e3-1d15ad82a53a",
   "metadata": {},
   "outputs": [],
   "source": [
    "df=spark.read.csv(\"train.csv\")"
   ]
  },
  {
   "cell_type": "code",
   "execution_count": 6,
   "id": "0db9e27c-0bc2-4375-a1ce-0249c8bf849d",
   "metadata": {},
   "outputs": [
    {
     "data": {
      "text/plain": [
       "DataFrame[_c0: string, _c1: string, _c2: string, _c3: string, _c4: string, _c5: string, _c6: string, _c7: string, _c8: string, _c9: string, _c10: string, _c11: string, _c12: string, _c13: string, _c14: string, _c15: string, _c16: string, _c17: string]"
      ]
     },
     "execution_count": 6,
     "metadata": {},
     "output_type": "execute_result"
    }
   ],
   "source": [
    "df"
   ]
  },
  {
   "cell_type": "code",
   "execution_count": 7,
   "id": "5ec1f710-c85e-4b8d-81ae-d2f25bfa6f30",
   "metadata": {},
   "outputs": [
    {
     "name": "stdout",
     "output_type": "stream",
     "text": [
      "+----------+---+------+----------+-----------+--------------+--------------+------------+--------+--------+-----------+--------------+-------------+-----------+-------------+-----------+-----------+-------+\n",
      "|       _c0|_c1|   _c2|       _c3|        _c4|           _c5|           _c6|         _c7|     _c8|     _c9|       _c10|          _c11|         _c12|       _c13|         _c14|       _c15|       _c16|   _c17|\n",
      "+----------+---+------+----------+-----------+--------------+--------------+------------+--------+--------+-----------+--------------+-------------+-----------+-------------+-----------+-----------+-------+\n",
      "|    LoanID|Age|Income|LoanAmount|CreditScore|MonthsEmployed|NumCreditLines|InterestRate|LoanTerm|DTIRatio|  Education|EmploymentType|MaritalStatus|HasMortgage|HasDependents|LoanPurpose|HasCoSigner|Default|\n",
      "|I38PQUQS96| 56| 85994|     50587|        520|            80|             4|       15.23|      36|    0.44| Bachelor's|     Full-time|     Divorced|        Yes|          Yes|      Other|        Yes|      0|\n",
      "|HPSK72WA7R| 69| 50432|    124440|        458|            15|             1|        4.81|      60|    0.68|   Master's|     Full-time|      Married|         No|           No|      Other|        Yes|      0|\n",
      "|C1OZ6DPJ8Y| 46| 84208|    129188|        451|            26|             3|       21.17|      24|    0.31|   Master's|    Unemployed|     Divorced|        Yes|          Yes|       Auto|         No|      1|\n",
      "|V2KKSFM3UN| 32| 31713|     44799|        743|             0|             3|        7.07|      24|    0.23|High School|     Full-time|      Married|         No|           No|   Business|         No|      0|\n",
      "+----------+---+------+----------+-----------+--------------+--------------+------------+--------+--------+-----------+--------------+-------------+-----------+-------------+-----------+-----------+-------+\n",
      "only showing top 5 rows\n",
      "\n"
     ]
    }
   ],
   "source": [
    "df.show(5)"
   ]
  },
  {
   "cell_type": "markdown",
   "id": "9ccc8159-b129-432b-8a1b-345b7d92ff26",
   "metadata": {},
   "source": [
    "sütun başlıklarını ayarlama"
   ]
  },
  {
   "cell_type": "code",
   "execution_count": 8,
   "id": "426d24de-8e01-4520-b23a-ddf34827bbe5",
   "metadata": {},
   "outputs": [],
   "source": [
    "df=spark.read.option('header','true').csv('train.csv')"
   ]
  },
  {
   "cell_type": "code",
   "execution_count": 9,
   "id": "c819b790-a5f1-4623-9d6b-9071d1e3d2b3",
   "metadata": {},
   "outputs": [
    {
     "name": "stdout",
     "output_type": "stream",
     "text": [
      "+----------+---+------+----------+-----------+--------------+--------------+------------+--------+--------+-----------+--------------+-------------+-----------+-------------+-----------+-----------+-------+\n",
      "|    LoanID|Age|Income|LoanAmount|CreditScore|MonthsEmployed|NumCreditLines|InterestRate|LoanTerm|DTIRatio|  Education|EmploymentType|MaritalStatus|HasMortgage|HasDependents|LoanPurpose|HasCoSigner|Default|\n",
      "+----------+---+------+----------+-----------+--------------+--------------+------------+--------+--------+-----------+--------------+-------------+-----------+-------------+-----------+-----------+-------+\n",
      "|I38PQUQS96| 56| 85994|     50587|        520|            80|             4|       15.23|      36|    0.44| Bachelor's|     Full-time|     Divorced|        Yes|          Yes|      Other|        Yes|      0|\n",
      "|HPSK72WA7R| 69| 50432|    124440|        458|            15|             1|        4.81|      60|    0.68|   Master's|     Full-time|      Married|         No|           No|      Other|        Yes|      0|\n",
      "|C1OZ6DPJ8Y| 46| 84208|    129188|        451|            26|             3|       21.17|      24|    0.31|   Master's|    Unemployed|     Divorced|        Yes|          Yes|       Auto|         No|      1|\n",
      "|V2KKSFM3UN| 32| 31713|     44799|        743|             0|             3|        7.07|      24|    0.23|High School|     Full-time|      Married|         No|           No|   Business|         No|      0|\n",
      "|EY08JDHTZP| 60| 20437|      9139|        633|             8|             4|        6.51|      48|    0.73| Bachelor's|    Unemployed|     Divorced|         No|          Yes|       Auto|         No|      0|\n",
      "|A9S62RQ7US| 25| 90298|     90448|        720|            18|             2|       22.72|      24|     0.1|High School|    Unemployed|       Single|        Yes|           No|   Business|        Yes|      1|\n",
      "|H8GXPAOS71| 38|111188|    177025|        429|            80|             1|       19.11|      12|    0.16| Bachelor's|    Unemployed|       Single|        Yes|           No|       Home|        Yes|      0|\n",
      "|0HGZQKJ36W| 56|126802|    155511|        531|            67|             4|        8.15|      60|    0.43|        PhD|     Full-time|      Married|         No|           No|       Home|        Yes|      0|\n",
      "|1R0N3LGNRJ| 36| 42053|     92357|        827|            83|             1|       23.94|      48|     0.2| Bachelor's| Self-employed|     Divorced|        Yes|           No|  Education|         No|      1|\n",
      "|CM9L1GTT2P| 40|132784|    228510|        480|           114|             4|        9.09|      48|    0.33|High School| Self-employed|      Married|        Yes|           No|      Other|        Yes|      0|\n",
      "|IA35XVH6ZO| 28|140466|    163781|        652|            94|             2|        9.08|      48|    0.23|High School|    Unemployed|      Married|         No|           No|  Education|         No|      0|\n",
      "|Y8UETC3LSG| 28|149227|    139759|        375|            56|             3|        5.84|      36|     0.8|        PhD|     Full-time|     Divorced|         No|           No|  Education|        Yes|      1|\n",
      "|RM6QSRHIYP| 41| 23265|     63527|        829|            87|             4|        9.73|      60|    0.45|   Master's|     Full-time|     Divorced|        Yes|           No|       Auto|        Yes|      0|\n",
      "|GX5YQOGROM| 53|117550|     95744|        395|           112|             4|        3.58|      24|    0.73|High School|    Unemployed|       Single|         No|           No|       Auto|        Yes|      0|\n",
      "|X0BVPZLDC0| 57|139699|     88143|        635|           112|             4|        5.63|      48|     0.2|   Master's|     Part-time|     Divorced|         No|           No|       Home|         No|      0|\n",
      "|O5DM5MPPNA| 41| 74064|    230883|        432|            31|             2|         5.0|      60|    0.89|   Master's|    Unemployed|      Married|        Yes|           No|       Auto|         No|      0|\n",
      "|ZDDRGVTEXS| 20|119704|     25697|        313|            49|             1|        9.63|      24|    0.28|        PhD|    Unemployed|       Single|        Yes|           No|       Home|         No|      0|\n",
      "|9V0FJW7QPB| 39| 33015|     10889|        811|           106|             2|       13.56|      60|    0.66|   Master's| Self-employed|       Single|        Yes|           No|      Other|         No|      0|\n",
      "|O1IKKLC69B| 19| 40718|     78515|        319|           119|             2|        14.0|      24|    0.17| Bachelor's| Self-employed|     Divorced|        Yes|           No|  Education|         No|      1|\n",
      "|F7487UU2BF| 41|123419|    161146|        376|            65|             4|       16.96|      60|    0.39|High School| Self-employed|       Single|        Yes|           No|      Other|        Yes|      0|\n",
      "+----------+---+------+----------+-----------+--------------+--------------+------------+--------+--------+-----------+--------------+-------------+-----------+-------------+-----------+-----------+-------+\n",
      "only showing top 20 rows\n",
      "\n"
     ]
    }
   ],
   "source": [
    "df.show()"
   ]
  },
  {
   "cell_type": "code",
   "execution_count": 10,
   "id": "3a76b529-aeab-4400-bda3-da43033349a8",
   "metadata": {},
   "outputs": [
    {
     "data": {
      "text/plain": [
       "pyspark.sql.dataframe.DataFrame"
      ]
     },
     "execution_count": 10,
     "metadata": {},
     "output_type": "execute_result"
    }
   ],
   "source": [
    "type(df)"
   ]
  },
  {
   "cell_type": "code",
   "execution_count": 11,
   "id": "b4cca285-1dd8-4abf-a7cd-dd57ccf86ff6",
   "metadata": {},
   "outputs": [
    {
     "data": {
      "text/plain": [
       "Row(LoanID='I38PQUQS96', Age='56', Income='85994', LoanAmount='50587', CreditScore='520', MonthsEmployed='80', NumCreditLines='4', InterestRate='15.23', LoanTerm='36', DTIRatio='0.44', Education=\"Bachelor's\", EmploymentType='Full-time', MaritalStatus='Divorced', HasMortgage='Yes', HasDependents='Yes', LoanPurpose='Other', HasCoSigner='Yes', Default='0')"
      ]
     },
     "execution_count": 11,
     "metadata": {},
     "output_type": "execute_result"
    }
   ],
   "source": [
    "df.head()"
   ]
  },
  {
   "cell_type": "code",
   "execution_count": 12,
   "id": "d38052aa-f7db-48b6-82d4-0fb7ace2d3e1",
   "metadata": {},
   "outputs": [
    {
     "name": "stdout",
     "output_type": "stream",
     "text": [
      "root\n",
      " |-- LoanID: string (nullable = true)\n",
      " |-- Age: string (nullable = true)\n",
      " |-- Income: string (nullable = true)\n",
      " |-- LoanAmount: string (nullable = true)\n",
      " |-- CreditScore: string (nullable = true)\n",
      " |-- MonthsEmployed: string (nullable = true)\n",
      " |-- NumCreditLines: string (nullable = true)\n",
      " |-- InterestRate: string (nullable = true)\n",
      " |-- LoanTerm: string (nullable = true)\n",
      " |-- DTIRatio: string (nullable = true)\n",
      " |-- Education: string (nullable = true)\n",
      " |-- EmploymentType: string (nullable = true)\n",
      " |-- MaritalStatus: string (nullable = true)\n",
      " |-- HasMortgage: string (nullable = true)\n",
      " |-- HasDependents: string (nullable = true)\n",
      " |-- LoanPurpose: string (nullable = true)\n",
      " |-- HasCoSigner: string (nullable = true)\n",
      " |-- Default: string (nullable = true)\n",
      "\n"
     ]
    }
   ],
   "source": [
    "df.printSchema()"
   ]
  },
  {
   "cell_type": "code",
   "execution_count": 13,
   "id": "d30127d3-1897-414a-99d4-ea714697ff7c",
   "metadata": {},
   "outputs": [],
   "source": [
    "#burdaki veri setinde tüm veri tipi string veri setinin orjinal veri tiipini almak için\n",
    "# inferSchema=True ozelligini kullanacağız"
   ]
  },
  {
   "cell_type": "code",
   "execution_count": 14,
   "id": "3c65b384-f343-4d5b-a3f1-22174e619691",
   "metadata": {},
   "outputs": [],
   "source": [
    "df=spark.read.option(\"header\",\"true\").csv(\"train.csv\", inferSchema=True)"
   ]
  },
  {
   "cell_type": "markdown",
   "id": "af6e9617-cae1-4ddb-8077-9dd44c3aac6d",
   "metadata": {},
   "source": [
    "### print schema ozeeliği pandas taki info() ozelligidir"
   ]
  },
  {
   "cell_type": "code",
   "execution_count": 15,
   "id": "c10068bc-1efd-4769-ac0e-86bf2928356d",
   "metadata": {},
   "outputs": [
    {
     "name": "stdout",
     "output_type": "stream",
     "text": [
      "root\n",
      " |-- LoanID: string (nullable = true)\n",
      " |-- Age: integer (nullable = true)\n",
      " |-- Income: integer (nullable = true)\n",
      " |-- LoanAmount: integer (nullable = true)\n",
      " |-- CreditScore: integer (nullable = true)\n",
      " |-- MonthsEmployed: integer (nullable = true)\n",
      " |-- NumCreditLines: integer (nullable = true)\n",
      " |-- InterestRate: double (nullable = true)\n",
      " |-- LoanTerm: integer (nullable = true)\n",
      " |-- DTIRatio: double (nullable = true)\n",
      " |-- Education: string (nullable = true)\n",
      " |-- EmploymentType: string (nullable = true)\n",
      " |-- MaritalStatus: string (nullable = true)\n",
      " |-- HasMortgage: string (nullable = true)\n",
      " |-- HasDependents: string (nullable = true)\n",
      " |-- LoanPurpose: string (nullable = true)\n",
      " |-- HasCoSigner: string (nullable = true)\n",
      " |-- Default: integer (nullable = true)\n",
      "\n"
     ]
    }
   ],
   "source": [
    "df.printSchema()"
   ]
  },
  {
   "cell_type": "code",
   "execution_count": 16,
   "id": "428c1353-e1bf-45f8-8ca7-0ea579c8211a",
   "metadata": {},
   "outputs": [
    {
     "name": "stdout",
     "output_type": "stream",
     "text": [
      "+----------+---+------+----------+-----------+--------------+--------------+------------+--------+--------+-----------+--------------+-------------+-----------+-------------+-----------+-----------+-------+\n",
      "|    LoanID|Age|Income|LoanAmount|CreditScore|MonthsEmployed|NumCreditLines|InterestRate|LoanTerm|DTIRatio|  Education|EmploymentType|MaritalStatus|HasMortgage|HasDependents|LoanPurpose|HasCoSigner|Default|\n",
      "+----------+---+------+----------+-----------+--------------+--------------+------------+--------+--------+-----------+--------------+-------------+-----------+-------------+-----------+-----------+-------+\n",
      "|I38PQUQS96| 56| 85994|     50587|        520|            80|             4|       15.23|      36|    0.44| Bachelor's|     Full-time|     Divorced|        Yes|          Yes|      Other|        Yes|      0|\n",
      "|HPSK72WA7R| 69| 50432|    124440|        458|            15|             1|        4.81|      60|    0.68|   Master's|     Full-time|      Married|         No|           No|      Other|        Yes|      0|\n",
      "|C1OZ6DPJ8Y| 46| 84208|    129188|        451|            26|             3|       21.17|      24|    0.31|   Master's|    Unemployed|     Divorced|        Yes|          Yes|       Auto|         No|      1|\n",
      "|V2KKSFM3UN| 32| 31713|     44799|        743|             0|             3|        7.07|      24|    0.23|High School|     Full-time|      Married|         No|           No|   Business|         No|      0|\n",
      "|EY08JDHTZP| 60| 20437|      9139|        633|             8|             4|        6.51|      48|    0.73| Bachelor's|    Unemployed|     Divorced|         No|          Yes|       Auto|         No|      0|\n",
      "+----------+---+------+----------+-----------+--------------+--------------+------------+--------+--------+-----------+--------------+-------------+-----------+-------------+-----------+-----------+-------+\n",
      "only showing top 5 rows\n",
      "\n"
     ]
    }
   ],
   "source": [
    "df.show(5)"
   ]
  },
  {
   "cell_type": "markdown",
   "id": "e5178dd9-ef3a-41e5-9ecd-bbe075545628",
   "metadata": {},
   "source": [
    "###  ya da bu sekilde veriyi yukleyebiliriz"
   ]
  },
  {
   "cell_type": "code",
   "execution_count": 17,
   "id": "d55d9f30-963f-4bb1-8060-b93fbe37f5eb",
   "metadata": {},
   "outputs": [
    {
     "name": "stdout",
     "output_type": "stream",
     "text": [
      "root\n",
      " |-- LoanID: string (nullable = true)\n",
      " |-- Age: integer (nullable = true)\n",
      " |-- Income: integer (nullable = true)\n",
      " |-- LoanAmount: integer (nullable = true)\n",
      " |-- CreditScore: integer (nullable = true)\n",
      " |-- MonthsEmployed: integer (nullable = true)\n",
      " |-- NumCreditLines: integer (nullable = true)\n",
      " |-- InterestRate: double (nullable = true)\n",
      " |-- LoanTerm: integer (nullable = true)\n",
      " |-- DTIRatio: double (nullable = true)\n",
      " |-- Education: string (nullable = true)\n",
      " |-- EmploymentType: string (nullable = true)\n",
      " |-- MaritalStatus: string (nullable = true)\n",
      " |-- HasMortgage: string (nullable = true)\n",
      " |-- HasDependents: string (nullable = true)\n",
      " |-- LoanPurpose: string (nullable = true)\n",
      " |-- HasCoSigner: string (nullable = true)\n",
      " |-- Default: integer (nullable = true)\n",
      "\n"
     ]
    }
   ],
   "source": [
    "df=spark.read.csv(\"train.csv\",header=True,inferSchema=True)\n",
    "df.printSchema()"
   ]
  },
  {
   "cell_type": "code",
   "execution_count": 18,
   "id": "4c225926-f8ed-4dc6-80e2-0599c35f3298",
   "metadata": {},
   "outputs": [
    {
     "data": {
      "text/plain": [
       "['LoanID',\n",
       " 'Age',\n",
       " 'Income',\n",
       " 'LoanAmount',\n",
       " 'CreditScore',\n",
       " 'MonthsEmployed',\n",
       " 'NumCreditLines',\n",
       " 'InterestRate',\n",
       " 'LoanTerm',\n",
       " 'DTIRatio',\n",
       " 'Education',\n",
       " 'EmploymentType',\n",
       " 'MaritalStatus',\n",
       " 'HasMortgage',\n",
       " 'HasDependents',\n",
       " 'LoanPurpose',\n",
       " 'HasCoSigner',\n",
       " 'Default']"
      ]
     },
     "execution_count": 18,
     "metadata": {},
     "output_type": "execute_result"
    }
   ],
   "source": [
    "#geting column names\n",
    "df.columns"
   ]
  },
  {
   "cell_type": "code",
   "execution_count": 19,
   "id": "6bfab5f9-3ff2-4540-a816-dbec2ea508d7",
   "metadata": {},
   "outputs": [
    {
     "data": {
      "text/plain": [
       "[Row(LoanID='I38PQUQS96', Age=56, Income=85994, LoanAmount=50587, CreditScore=520, MonthsEmployed=80, NumCreditLines=4, InterestRate=15.23, LoanTerm=36, DTIRatio=0.44, Education=\"Bachelor's\", EmploymentType='Full-time', MaritalStatus='Divorced', HasMortgage='Yes', HasDependents='Yes', LoanPurpose='Other', HasCoSigner='Yes', Default=0),\n",
       " Row(LoanID='HPSK72WA7R', Age=69, Income=50432, LoanAmount=124440, CreditScore=458, MonthsEmployed=15, NumCreditLines=1, InterestRate=4.81, LoanTerm=60, DTIRatio=0.68, Education=\"Master's\", EmploymentType='Full-time', MaritalStatus='Married', HasMortgage='No', HasDependents='No', LoanPurpose='Other', HasCoSigner='Yes', Default=0),\n",
       " Row(LoanID='C1OZ6DPJ8Y', Age=46, Income=84208, LoanAmount=129188, CreditScore=451, MonthsEmployed=26, NumCreditLines=3, InterestRate=21.17, LoanTerm=24, DTIRatio=0.31, Education=\"Master's\", EmploymentType='Unemployed', MaritalStatus='Divorced', HasMortgage='Yes', HasDependents='Yes', LoanPurpose='Auto', HasCoSigner='No', Default=1)]"
      ]
     },
     "execution_count": 19,
     "metadata": {},
     "output_type": "execute_result"
    }
   ],
   "source": [
    "df.head(3)"
   ]
  },
  {
   "cell_type": "markdown",
   "id": "a19d68c3-8e80-4ad6-b49f-6d4cb53eb22a",
   "metadata": {},
   "source": [
    "### belirli satır ve sutunları secmek"
   ]
  },
  {
   "cell_type": "code",
   "execution_count": 20,
   "id": "67ff8834-3502-4406-8da6-b552da5943a1",
   "metadata": {},
   "outputs": [
    {
     "data": {
      "text/plain": [
       "DataFrame[Education: string]"
      ]
     },
     "execution_count": 20,
     "metadata": {},
     "output_type": "execute_result"
    }
   ],
   "source": [
    "df.select('Education')"
   ]
  },
  {
   "cell_type": "code",
   "execution_count": 21,
   "id": "17c2ddc8-e1c3-403d-bd31-51c296b48d0a",
   "metadata": {},
   "outputs": [
    {
     "name": "stdout",
     "output_type": "stream",
     "text": [
      "+-----------+\n",
      "|  Education|\n",
      "+-----------+\n",
      "| Bachelor's|\n",
      "|   Master's|\n",
      "|   Master's|\n",
      "|High School|\n",
      "| Bachelor's|\n",
      "|High School|\n",
      "| Bachelor's|\n",
      "|        PhD|\n",
      "| Bachelor's|\n",
      "|High School|\n",
      "|High School|\n",
      "|        PhD|\n",
      "|   Master's|\n",
      "|High School|\n",
      "|   Master's|\n",
      "|   Master's|\n",
      "|        PhD|\n",
      "|   Master's|\n",
      "| Bachelor's|\n",
      "|High School|\n",
      "+-----------+\n",
      "only showing top 20 rows\n",
      "\n"
     ]
    }
   ],
   "source": [
    "df.select('Education').show()"
   ]
  },
  {
   "cell_type": "code",
   "execution_count": 22,
   "id": "c3a88752-c590-41cb-9701-1e5ff88ab024",
   "metadata": {},
   "outputs": [
    {
     "name": "stdout",
     "output_type": "stream",
     "text": [
      "+-----------+-------------+\n",
      "|  Education|MaritalStatus|\n",
      "+-----------+-------------+\n",
      "| Bachelor's|     Divorced|\n",
      "|   Master's|      Married|\n",
      "|   Master's|     Divorced|\n",
      "|High School|      Married|\n",
      "| Bachelor's|     Divorced|\n",
      "|High School|       Single|\n",
      "| Bachelor's|       Single|\n",
      "|        PhD|      Married|\n",
      "| Bachelor's|     Divorced|\n",
      "|High School|      Married|\n",
      "|High School|      Married|\n",
      "|        PhD|     Divorced|\n",
      "|   Master's|     Divorced|\n",
      "|High School|       Single|\n",
      "|   Master's|     Divorced|\n",
      "|   Master's|      Married|\n",
      "|        PhD|       Single|\n",
      "|   Master's|       Single|\n",
      "| Bachelor's|     Divorced|\n",
      "|High School|       Single|\n",
      "+-----------+-------------+\n",
      "only showing top 20 rows\n",
      "\n"
     ]
    }
   ],
   "source": [
    "df.select(['Education','MaritalStatus']).show()"
   ]
  },
  {
   "cell_type": "code",
   "execution_count": 23,
   "id": "d9d69120-9e30-4bd1-875e-17381f542979",
   "metadata": {},
   "outputs": [
    {
     "data": {
      "text/plain": [
       "[('LoanID', 'string'),\n",
       " ('Age', 'int'),\n",
       " ('Income', 'int'),\n",
       " ('LoanAmount', 'int'),\n",
       " ('CreditScore', 'int'),\n",
       " ('MonthsEmployed', 'int'),\n",
       " ('NumCreditLines', 'int'),\n",
       " ('InterestRate', 'double'),\n",
       " ('LoanTerm', 'int'),\n",
       " ('DTIRatio', 'double'),\n",
       " ('Education', 'string'),\n",
       " ('EmploymentType', 'string'),\n",
       " ('MaritalStatus', 'string'),\n",
       " ('HasMortgage', 'string'),\n",
       " ('HasDependents', 'string'),\n",
       " ('LoanPurpose', 'string'),\n",
       " ('HasCoSigner', 'string'),\n",
       " ('Default', 'int')]"
      ]
     },
     "execution_count": 23,
     "metadata": {},
     "output_type": "execute_result"
    }
   ],
   "source": [
    "df.dtypes"
   ]
  },
  {
   "cell_type": "code",
   "execution_count": 24,
   "id": "1ede16a2-17c0-48de-b977-bba255207fff",
   "metadata": {},
   "outputs": [
    {
     "data": {
      "text/plain": [
       "DataFrame[summary: string, LoanID: string, Age: string, Income: string, LoanAmount: string, CreditScore: string, MonthsEmployed: string, NumCreditLines: string, InterestRate: string, LoanTerm: string, DTIRatio: string, Education: string, EmploymentType: string, MaritalStatus: string, HasMortgage: string, HasDependents: string, LoanPurpose: string, HasCoSigner: string, Default: string]"
      ]
     },
     "execution_count": 24,
     "metadata": {},
     "output_type": "execute_result"
    }
   ],
   "source": [
    "df.describe()"
   ]
  },
  {
   "cell_type": "code",
   "execution_count": 25,
   "id": "46784a34-0d81-42a9-9935-f2d0f4745750",
   "metadata": {},
   "outputs": [
    {
     "name": "stdout",
     "output_type": "stream",
     "text": [
      "+-------+----------+------------------+-----------------+------------------+------------------+------------------+------------------+------------------+------------------+-------------------+----------+--------------+-------------+-----------+-------------+-----------+-----------+-------------------+\n",
      "|summary|    LoanID|               Age|           Income|        LoanAmount|       CreditScore|    MonthsEmployed|    NumCreditLines|      InterestRate|          LoanTerm|           DTIRatio| Education|EmploymentType|MaritalStatus|HasMortgage|HasDependents|LoanPurpose|HasCoSigner|            Default|\n",
      "+-------+----------+------------------+-----------------+------------------+------------------+------------------+------------------+------------------+------------------+-------------------+----------+--------------+-------------+-----------+-------------+-----------+-----------+-------------------+\n",
      "|  count|    255347|            255347|           255347|            255347|            255347|            255347|            255347|            255347|            255347|             255347|    255347|        255347|       255347|     255347|       255347|     255347|     255347|             255347|\n",
      "|   mean|      null|43.498306226429136|82499.30459727351|127578.86551242035| 574.2643461642392|59.541976212761455| 2.501035845339871|13.492773480792833| 36.02589417537703|   0.50021206436731|      null|          null|         null|       null|         null|       null|       null|0.11612824901017048|\n",
      "| stddev|      null|  14.9902584187096|38963.01372937814| 70840.70614150073|158.90386659497537| 34.64337563735202|1.1170176714339608| 6.636443064944324|16.969330034462878|0.23091661543575903|      null|          null|         null|       null|         null|       null|       null| 0.3203792764304568|\n",
      "|    min|0003HW9UAA|                18|            15000|              5000|               300|                 0|                 1|               2.0|                12|                0.1|Bachelor's|     Full-time|     Divorced|         No|           No|       Auto|         No|                  0|\n",
      "|    max|ZZZX015LV2|                69|           149999|            249999|               849|               119|                 4|              25.0|                60|                0.9|       PhD|    Unemployed|       Single|        Yes|          Yes|      Other|        Yes|                  1|\n",
      "+-------+----------+------------------+-----------------+------------------+------------------+------------------+------------------+------------------+------------------+-------------------+----------+--------------+-------------+-----------+-------------+-----------+-----------+-------------------+\n",
      "\n"
     ]
    }
   ],
   "source": [
    "df.describe().show()"
   ]
  },
  {
   "cell_type": "code",
   "execution_count": 26,
   "id": "3059a289-efe0-4316-ba9d-8fc8619205c5",
   "metadata": {},
   "outputs": [],
   "source": [
    "add_col=df.withColumn(\"newcolumn\",df['LoanAmount']/df['Income'])"
   ]
  },
  {
   "cell_type": "code",
   "execution_count": 27,
   "id": "8342841c-8abb-4171-a08e-69f4a5a933f0",
   "metadata": {},
   "outputs": [
    {
     "name": "stdout",
     "output_type": "stream",
     "text": [
      "+-------------------+\n",
      "|          newcolumn|\n",
      "+-------------------+\n",
      "|  0.588261971765472|\n",
      "|  2.467480964467005|\n",
      "|  1.534153524605738|\n",
      "| 1.4126383502033866|\n",
      "|0.44717913588100017|\n",
      "| 1.0016611663602737|\n",
      "| 1.5921232507105083|\n",
      "|  1.226408100818599|\n",
      "| 2.1962047891945877|\n",
      "| 1.7209151705024701|\n",
      "| 1.1659832272578416|\n",
      "| 0.9365530366488638|\n",
      "|  2.730582419944122|\n",
      "| 0.8144959591663122|\n",
      "| 0.6309493983493082|\n",
      "|  3.117344458846403|\n",
      "|0.21467118893270065|\n",
      "|0.32981977888838404|\n",
      "| 1.9282626848077018|\n",
      "| 1.3056822693426458|\n",
      "+-------------------+\n",
      "only showing top 20 rows\n",
      "\n"
     ]
    }
   ],
   "source": [
    "add_col.select(\"newcolumn\").show()"
   ]
  },
  {
   "cell_type": "code",
   "execution_count": 28,
   "id": "fdcedd0a-63db-4349-81e7-0a70fa95b981",
   "metadata": {},
   "outputs": [
    {
     "data": {
      "text/plain": [
       "[Row(newcolumn=0.588261971765472),\n",
       " Row(newcolumn=2.467480964467005),\n",
       " Row(newcolumn=1.534153524605738),\n",
       " Row(newcolumn=1.4126383502033866),\n",
       " Row(newcolumn=0.44717913588100017)]"
      ]
     },
     "execution_count": 28,
     "metadata": {},
     "output_type": "execute_result"
    }
   ],
   "source": [
    "add_col.select(\"newcolumn\").head(5)"
   ]
  },
  {
   "cell_type": "code",
   "execution_count": 29,
   "id": "86ac992b-6107-41df-8d9e-103406ab8c8b",
   "metadata": {},
   "outputs": [],
   "source": [
    "## drop coloumns"
   ]
  },
  {
   "cell_type": "code",
   "execution_count": 30,
   "id": "ec2f5bf8-81ff-4848-9346-4b735ea5ac52",
   "metadata": {},
   "outputs": [
    {
     "data": {
      "text/plain": [
       "['LoanID',\n",
       " 'Age',\n",
       " 'Income',\n",
       " 'LoanAmount',\n",
       " 'CreditScore',\n",
       " 'MonthsEmployed',\n",
       " 'NumCreditLines',\n",
       " 'InterestRate',\n",
       " 'LoanTerm',\n",
       " 'DTIRatio',\n",
       " 'Education',\n",
       " 'EmploymentType',\n",
       " 'MaritalStatus',\n",
       " 'HasMortgage',\n",
       " 'HasDependents',\n",
       " 'LoanPurpose',\n",
       " 'HasCoSigner',\n",
       " 'Default']"
      ]
     },
     "execution_count": 30,
     "metadata": {},
     "output_type": "execute_result"
    }
   ],
   "source": [
    "drop_col=add_col.drop(\"newcolumn\")\n",
    "drop_col.columns"
   ]
  },
  {
   "cell_type": "code",
   "execution_count": 31,
   "id": "e6815ba2-93c8-4f73-a44d-436efd102e97",
   "metadata": {},
   "outputs": [],
   "source": [
    "#rename column"
   ]
  },
  {
   "cell_type": "code",
   "execution_count": 32,
   "id": "c223de85-f952-4a90-b44b-b6664d640219",
   "metadata": {},
   "outputs": [],
   "source": [
    "add_col=add_col.withColumnRenamed(\"newcolumn\",\"loan/income\")"
   ]
  },
  {
   "cell_type": "code",
   "execution_count": 33,
   "id": "7fd4dd50-1f5f-4881-b9a0-16d339ab41d3",
   "metadata": {},
   "outputs": [
    {
     "name": "stdout",
     "output_type": "stream",
     "text": [
      "+-------------------+\n",
      "|        loan/income|\n",
      "+-------------------+\n",
      "|  0.588261971765472|\n",
      "|  2.467480964467005|\n",
      "|  1.534153524605738|\n",
      "| 1.4126383502033866|\n",
      "|0.44717913588100017|\n",
      "+-------------------+\n",
      "only showing top 5 rows\n",
      "\n"
     ]
    }
   ],
   "source": [
    "add_col.select(\"loan/income\").show(5)"
   ]
  },
  {
   "cell_type": "code",
   "execution_count": 34,
   "id": "6e7e4f0b-ba62-4f75-aafb-efa267962e13",
   "metadata": {},
   "outputs": [],
   "source": [
    "# drop na values"
   ]
  },
  {
   "cell_type": "code",
   "execution_count": 35,
   "id": "75724ada-4ced-4b9c-a2a5-2e30eec32023",
   "metadata": {},
   "outputs": [
    {
     "name": "stdout",
     "output_type": "stream",
     "text": [
      "+----------+---+------+----------+-----------+--------------+--------------+------------+--------+--------+-----------+--------------+-------------+-----------+-------------+-----------+-----------+-------+-------------------+\n",
      "|    LoanID|Age|Income|LoanAmount|CreditScore|MonthsEmployed|NumCreditLines|InterestRate|LoanTerm|DTIRatio|  Education|EmploymentType|MaritalStatus|HasMortgage|HasDependents|LoanPurpose|HasCoSigner|Default|        loan/income|\n",
      "+----------+---+------+----------+-----------+--------------+--------------+------------+--------+--------+-----------+--------------+-------------+-----------+-------------+-----------+-----------+-------+-------------------+\n",
      "|I38PQUQS96| 56| 85994|     50587|        520|            80|             4|       15.23|      36|    0.44| Bachelor's|     Full-time|     Divorced|        Yes|          Yes|      Other|        Yes|      0|  0.588261971765472|\n",
      "|HPSK72WA7R| 69| 50432|    124440|        458|            15|             1|        4.81|      60|    0.68|   Master's|     Full-time|      Married|         No|           No|      Other|        Yes|      0|  2.467480964467005|\n",
      "|C1OZ6DPJ8Y| 46| 84208|    129188|        451|            26|             3|       21.17|      24|    0.31|   Master's|    Unemployed|     Divorced|        Yes|          Yes|       Auto|         No|      1|  1.534153524605738|\n",
      "|V2KKSFM3UN| 32| 31713|     44799|        743|             0|             3|        7.07|      24|    0.23|High School|     Full-time|      Married|         No|           No|   Business|         No|      0| 1.4126383502033866|\n",
      "|EY08JDHTZP| 60| 20437|      9139|        633|             8|             4|        6.51|      48|    0.73| Bachelor's|    Unemployed|     Divorced|         No|          Yes|       Auto|         No|      0|0.44717913588100017|\n",
      "|A9S62RQ7US| 25| 90298|     90448|        720|            18|             2|       22.72|      24|     0.1|High School|    Unemployed|       Single|        Yes|           No|   Business|        Yes|      1| 1.0016611663602737|\n",
      "|H8GXPAOS71| 38|111188|    177025|        429|            80|             1|       19.11|      12|    0.16| Bachelor's|    Unemployed|       Single|        Yes|           No|       Home|        Yes|      0| 1.5921232507105083|\n",
      "|0HGZQKJ36W| 56|126802|    155511|        531|            67|             4|        8.15|      60|    0.43|        PhD|     Full-time|      Married|         No|           No|       Home|        Yes|      0|  1.226408100818599|\n",
      "|1R0N3LGNRJ| 36| 42053|     92357|        827|            83|             1|       23.94|      48|     0.2| Bachelor's| Self-employed|     Divorced|        Yes|           No|  Education|         No|      1| 2.1962047891945877|\n",
      "|CM9L1GTT2P| 40|132784|    228510|        480|           114|             4|        9.09|      48|    0.33|High School| Self-employed|      Married|        Yes|           No|      Other|        Yes|      0| 1.7209151705024701|\n",
      "|IA35XVH6ZO| 28|140466|    163781|        652|            94|             2|        9.08|      48|    0.23|High School|    Unemployed|      Married|         No|           No|  Education|         No|      0| 1.1659832272578416|\n",
      "|Y8UETC3LSG| 28|149227|    139759|        375|            56|             3|        5.84|      36|     0.8|        PhD|     Full-time|     Divorced|         No|           No|  Education|        Yes|      1| 0.9365530366488638|\n",
      "|RM6QSRHIYP| 41| 23265|     63527|        829|            87|             4|        9.73|      60|    0.45|   Master's|     Full-time|     Divorced|        Yes|           No|       Auto|        Yes|      0|  2.730582419944122|\n",
      "|GX5YQOGROM| 53|117550|     95744|        395|           112|             4|        3.58|      24|    0.73|High School|    Unemployed|       Single|         No|           No|       Auto|        Yes|      0| 0.8144959591663122|\n",
      "|X0BVPZLDC0| 57|139699|     88143|        635|           112|             4|        5.63|      48|     0.2|   Master's|     Part-time|     Divorced|         No|           No|       Home|         No|      0| 0.6309493983493082|\n",
      "|O5DM5MPPNA| 41| 74064|    230883|        432|            31|             2|         5.0|      60|    0.89|   Master's|    Unemployed|      Married|        Yes|           No|       Auto|         No|      0|  3.117344458846403|\n",
      "|ZDDRGVTEXS| 20|119704|     25697|        313|            49|             1|        9.63|      24|    0.28|        PhD|    Unemployed|       Single|        Yes|           No|       Home|         No|      0|0.21467118893270065|\n",
      "|9V0FJW7QPB| 39| 33015|     10889|        811|           106|             2|       13.56|      60|    0.66|   Master's| Self-employed|       Single|        Yes|           No|      Other|         No|      0|0.32981977888838404|\n",
      "|O1IKKLC69B| 19| 40718|     78515|        319|           119|             2|        14.0|      24|    0.17| Bachelor's| Self-employed|     Divorced|        Yes|           No|  Education|         No|      1| 1.9282626848077018|\n",
      "|F7487UU2BF| 41|123419|    161146|        376|            65|             4|       16.96|      60|    0.39|High School| Self-employed|       Single|        Yes|           No|      Other|        Yes|      0| 1.3056822693426458|\n",
      "+----------+---+------+----------+-----------+--------------+--------------+------------+--------+--------+-----------+--------------+-------------+-----------+-------------+-----------+-----------+-------+-------------------+\n",
      "only showing top 20 rows\n",
      "\n"
     ]
    }
   ],
   "source": [
    "add_col.na.drop().show()"
   ]
  },
  {
   "cell_type": "code",
   "execution_count": 36,
   "id": "54fc3138-b490-4f75-9970-cd91249016ac",
   "metadata": {},
   "outputs": [
    {
     "name": "stdout",
     "output_type": "stream",
     "text": [
      "+----------+---+------+----------+-----------+--------------+--------------+------------+--------+--------+-----------+--------------+-------------+-----------+-------------+-----------+-----------+-------+-------------------+\n",
      "|    LoanID|Age|Income|LoanAmount|CreditScore|MonthsEmployed|NumCreditLines|InterestRate|LoanTerm|DTIRatio|  Education|EmploymentType|MaritalStatus|HasMortgage|HasDependents|LoanPurpose|HasCoSigner|Default|        loan/income|\n",
      "+----------+---+------+----------+-----------+--------------+--------------+------------+--------+--------+-----------+--------------+-------------+-----------+-------------+-----------+-----------+-------+-------------------+\n",
      "|I38PQUQS96| 56| 85994|     50587|        520|            80|             4|       15.23|      36|    0.44| Bachelor's|     Full-time|     Divorced|        Yes|          Yes|      Other|        Yes|      0|  0.588261971765472|\n",
      "|HPSK72WA7R| 69| 50432|    124440|        458|            15|             1|        4.81|      60|    0.68|   Master's|     Full-time|      Married|         No|           No|      Other|        Yes|      0|  2.467480964467005|\n",
      "|C1OZ6DPJ8Y| 46| 84208|    129188|        451|            26|             3|       21.17|      24|    0.31|   Master's|    Unemployed|     Divorced|        Yes|          Yes|       Auto|         No|      1|  1.534153524605738|\n",
      "|V2KKSFM3UN| 32| 31713|     44799|        743|             0|             3|        7.07|      24|    0.23|High School|     Full-time|      Married|         No|           No|   Business|         No|      0| 1.4126383502033866|\n",
      "|EY08JDHTZP| 60| 20437|      9139|        633|             8|             4|        6.51|      48|    0.73| Bachelor's|    Unemployed|     Divorced|         No|          Yes|       Auto|         No|      0|0.44717913588100017|\n",
      "|A9S62RQ7US| 25| 90298|     90448|        720|            18|             2|       22.72|      24|     0.1|High School|    Unemployed|       Single|        Yes|           No|   Business|        Yes|      1| 1.0016611663602737|\n",
      "|H8GXPAOS71| 38|111188|    177025|        429|            80|             1|       19.11|      12|    0.16| Bachelor's|    Unemployed|       Single|        Yes|           No|       Home|        Yes|      0| 1.5921232507105083|\n",
      "|0HGZQKJ36W| 56|126802|    155511|        531|            67|             4|        8.15|      60|    0.43|        PhD|     Full-time|      Married|         No|           No|       Home|        Yes|      0|  1.226408100818599|\n",
      "|1R0N3LGNRJ| 36| 42053|     92357|        827|            83|             1|       23.94|      48|     0.2| Bachelor's| Self-employed|     Divorced|        Yes|           No|  Education|         No|      1| 2.1962047891945877|\n",
      "|CM9L1GTT2P| 40|132784|    228510|        480|           114|             4|        9.09|      48|    0.33|High School| Self-employed|      Married|        Yes|           No|      Other|        Yes|      0| 1.7209151705024701|\n",
      "|IA35XVH6ZO| 28|140466|    163781|        652|            94|             2|        9.08|      48|    0.23|High School|    Unemployed|      Married|         No|           No|  Education|         No|      0| 1.1659832272578416|\n",
      "|Y8UETC3LSG| 28|149227|    139759|        375|            56|             3|        5.84|      36|     0.8|        PhD|     Full-time|     Divorced|         No|           No|  Education|        Yes|      1| 0.9365530366488638|\n",
      "|RM6QSRHIYP| 41| 23265|     63527|        829|            87|             4|        9.73|      60|    0.45|   Master's|     Full-time|     Divorced|        Yes|           No|       Auto|        Yes|      0|  2.730582419944122|\n",
      "|GX5YQOGROM| 53|117550|     95744|        395|           112|             4|        3.58|      24|    0.73|High School|    Unemployed|       Single|         No|           No|       Auto|        Yes|      0| 0.8144959591663122|\n",
      "|X0BVPZLDC0| 57|139699|     88143|        635|           112|             4|        5.63|      48|     0.2|   Master's|     Part-time|     Divorced|         No|           No|       Home|         No|      0| 0.6309493983493082|\n",
      "|O5DM5MPPNA| 41| 74064|    230883|        432|            31|             2|         5.0|      60|    0.89|   Master's|    Unemployed|      Married|        Yes|           No|       Auto|         No|      0|  3.117344458846403|\n",
      "|ZDDRGVTEXS| 20|119704|     25697|        313|            49|             1|        9.63|      24|    0.28|        PhD|    Unemployed|       Single|        Yes|           No|       Home|         No|      0|0.21467118893270065|\n",
      "|9V0FJW7QPB| 39| 33015|     10889|        811|           106|             2|       13.56|      60|    0.66|   Master's| Self-employed|       Single|        Yes|           No|      Other|         No|      0|0.32981977888838404|\n",
      "|O1IKKLC69B| 19| 40718|     78515|        319|           119|             2|        14.0|      24|    0.17| Bachelor's| Self-employed|     Divorced|        Yes|           No|  Education|         No|      1| 1.9282626848077018|\n",
      "|F7487UU2BF| 41|123419|    161146|        376|            65|             4|       16.96|      60|    0.39|High School| Self-employed|       Single|        Yes|           No|      Other|        Yes|      0| 1.3056822693426458|\n",
      "+----------+---+------+----------+-----------+--------------+--------------+------------+--------+--------+-----------+--------------+-------------+-----------+-------------+-----------+-----------+-------+-------------------+\n",
      "only showing top 20 rows\n",
      "\n"
     ]
    }
   ],
   "source": [
    "# satırda tek bir tane bile null deger olsa tum satırı siler\n",
    "add_col.na.drop(how='any').show() "
   ]
  },
  {
   "cell_type": "code",
   "execution_count": 37,
   "id": "1b9a6f93-e95c-4dd0-b81e-e0a494600db4",
   "metadata": {},
   "outputs": [
    {
     "name": "stdout",
     "output_type": "stream",
     "text": [
      "+----------+---+------+----------+-----------+--------------+--------------+------------+--------+--------+-----------+--------------+-------------+-----------+-------------+-----------+-----------+-------+-------------------+\n",
      "|    LoanID|Age|Income|LoanAmount|CreditScore|MonthsEmployed|NumCreditLines|InterestRate|LoanTerm|DTIRatio|  Education|EmploymentType|MaritalStatus|HasMortgage|HasDependents|LoanPurpose|HasCoSigner|Default|        loan/income|\n",
      "+----------+---+------+----------+-----------+--------------+--------------+------------+--------+--------+-----------+--------------+-------------+-----------+-------------+-----------+-----------+-------+-------------------+\n",
      "|I38PQUQS96| 56| 85994|     50587|        520|            80|             4|       15.23|      36|    0.44| Bachelor's|     Full-time|     Divorced|        Yes|          Yes|      Other|        Yes|      0|  0.588261971765472|\n",
      "|HPSK72WA7R| 69| 50432|    124440|        458|            15|             1|        4.81|      60|    0.68|   Master's|     Full-time|      Married|         No|           No|      Other|        Yes|      0|  2.467480964467005|\n",
      "|C1OZ6DPJ8Y| 46| 84208|    129188|        451|            26|             3|       21.17|      24|    0.31|   Master's|    Unemployed|     Divorced|        Yes|          Yes|       Auto|         No|      1|  1.534153524605738|\n",
      "|V2KKSFM3UN| 32| 31713|     44799|        743|             0|             3|        7.07|      24|    0.23|High School|     Full-time|      Married|         No|           No|   Business|         No|      0| 1.4126383502033866|\n",
      "|EY08JDHTZP| 60| 20437|      9139|        633|             8|             4|        6.51|      48|    0.73| Bachelor's|    Unemployed|     Divorced|         No|          Yes|       Auto|         No|      0|0.44717913588100017|\n",
      "|A9S62RQ7US| 25| 90298|     90448|        720|            18|             2|       22.72|      24|     0.1|High School|    Unemployed|       Single|        Yes|           No|   Business|        Yes|      1| 1.0016611663602737|\n",
      "|H8GXPAOS71| 38|111188|    177025|        429|            80|             1|       19.11|      12|    0.16| Bachelor's|    Unemployed|       Single|        Yes|           No|       Home|        Yes|      0| 1.5921232507105083|\n",
      "|0HGZQKJ36W| 56|126802|    155511|        531|            67|             4|        8.15|      60|    0.43|        PhD|     Full-time|      Married|         No|           No|       Home|        Yes|      0|  1.226408100818599|\n",
      "|1R0N3LGNRJ| 36| 42053|     92357|        827|            83|             1|       23.94|      48|     0.2| Bachelor's| Self-employed|     Divorced|        Yes|           No|  Education|         No|      1| 2.1962047891945877|\n",
      "|CM9L1GTT2P| 40|132784|    228510|        480|           114|             4|        9.09|      48|    0.33|High School| Self-employed|      Married|        Yes|           No|      Other|        Yes|      0| 1.7209151705024701|\n",
      "|IA35XVH6ZO| 28|140466|    163781|        652|            94|             2|        9.08|      48|    0.23|High School|    Unemployed|      Married|         No|           No|  Education|         No|      0| 1.1659832272578416|\n",
      "|Y8UETC3LSG| 28|149227|    139759|        375|            56|             3|        5.84|      36|     0.8|        PhD|     Full-time|     Divorced|         No|           No|  Education|        Yes|      1| 0.9365530366488638|\n",
      "|RM6QSRHIYP| 41| 23265|     63527|        829|            87|             4|        9.73|      60|    0.45|   Master's|     Full-time|     Divorced|        Yes|           No|       Auto|        Yes|      0|  2.730582419944122|\n",
      "|GX5YQOGROM| 53|117550|     95744|        395|           112|             4|        3.58|      24|    0.73|High School|    Unemployed|       Single|         No|           No|       Auto|        Yes|      0| 0.8144959591663122|\n",
      "|X0BVPZLDC0| 57|139699|     88143|        635|           112|             4|        5.63|      48|     0.2|   Master's|     Part-time|     Divorced|         No|           No|       Home|         No|      0| 0.6309493983493082|\n",
      "|O5DM5MPPNA| 41| 74064|    230883|        432|            31|             2|         5.0|      60|    0.89|   Master's|    Unemployed|      Married|        Yes|           No|       Auto|         No|      0|  3.117344458846403|\n",
      "|ZDDRGVTEXS| 20|119704|     25697|        313|            49|             1|        9.63|      24|    0.28|        PhD|    Unemployed|       Single|        Yes|           No|       Home|         No|      0|0.21467118893270065|\n",
      "|9V0FJW7QPB| 39| 33015|     10889|        811|           106|             2|       13.56|      60|    0.66|   Master's| Self-employed|       Single|        Yes|           No|      Other|         No|      0|0.32981977888838404|\n",
      "|O1IKKLC69B| 19| 40718|     78515|        319|           119|             2|        14.0|      24|    0.17| Bachelor's| Self-employed|     Divorced|        Yes|           No|  Education|         No|      1| 1.9282626848077018|\n",
      "|F7487UU2BF| 41|123419|    161146|        376|            65|             4|       16.96|      60|    0.39|High School| Self-employed|       Single|        Yes|           No|      Other|        Yes|      0| 1.3056822693426458|\n",
      "+----------+---+------+----------+-----------+--------------+--------------+------------+--------+--------+-----------+--------------+-------------+-----------+-------------+-----------+-----------+-------+-------------------+\n",
      "only showing top 20 rows\n",
      "\n"
     ]
    }
   ],
   "source": [
    "#eger tum satır null degerlerden olusuyorsa o satırı kaldırırı\n",
    "# eger o satırda tek bir tane bile null olmayan deger varsa o satır kaldırılmaz\n",
    "add_col.na.drop(how='all').show() "
   ]
  },
  {
   "cell_type": "code",
   "execution_count": 38,
   "id": "8c61b591-87c7-491a-b303-671fe2b8fd5f",
   "metadata": {},
   "outputs": [
    {
     "name": "stdout",
     "output_type": "stream",
     "text": [
      "+----------+---+------+----------+-----------+--------------+--------------+------------+--------+--------+-----------+--------------+-------------+-----------+-------------+-----------+-----------+-------+-------------------+\n",
      "|    LoanID|Age|Income|LoanAmount|CreditScore|MonthsEmployed|NumCreditLines|InterestRate|LoanTerm|DTIRatio|  Education|EmploymentType|MaritalStatus|HasMortgage|HasDependents|LoanPurpose|HasCoSigner|Default|        loan/income|\n",
      "+----------+---+------+----------+-----------+--------------+--------------+------------+--------+--------+-----------+--------------+-------------+-----------+-------------+-----------+-----------+-------+-------------------+\n",
      "|I38PQUQS96| 56| 85994|     50587|        520|            80|             4|       15.23|      36|    0.44| Bachelor's|     Full-time|     Divorced|        Yes|          Yes|      Other|        Yes|      0|  0.588261971765472|\n",
      "|HPSK72WA7R| 69| 50432|    124440|        458|            15|             1|        4.81|      60|    0.68|   Master's|     Full-time|      Married|         No|           No|      Other|        Yes|      0|  2.467480964467005|\n",
      "|C1OZ6DPJ8Y| 46| 84208|    129188|        451|            26|             3|       21.17|      24|    0.31|   Master's|    Unemployed|     Divorced|        Yes|          Yes|       Auto|         No|      1|  1.534153524605738|\n",
      "|V2KKSFM3UN| 32| 31713|     44799|        743|             0|             3|        7.07|      24|    0.23|High School|     Full-time|      Married|         No|           No|   Business|         No|      0| 1.4126383502033866|\n",
      "|EY08JDHTZP| 60| 20437|      9139|        633|             8|             4|        6.51|      48|    0.73| Bachelor's|    Unemployed|     Divorced|         No|          Yes|       Auto|         No|      0|0.44717913588100017|\n",
      "|A9S62RQ7US| 25| 90298|     90448|        720|            18|             2|       22.72|      24|     0.1|High School|    Unemployed|       Single|        Yes|           No|   Business|        Yes|      1| 1.0016611663602737|\n",
      "|H8GXPAOS71| 38|111188|    177025|        429|            80|             1|       19.11|      12|    0.16| Bachelor's|    Unemployed|       Single|        Yes|           No|       Home|        Yes|      0| 1.5921232507105083|\n",
      "|0HGZQKJ36W| 56|126802|    155511|        531|            67|             4|        8.15|      60|    0.43|        PhD|     Full-time|      Married|         No|           No|       Home|        Yes|      0|  1.226408100818599|\n",
      "|1R0N3LGNRJ| 36| 42053|     92357|        827|            83|             1|       23.94|      48|     0.2| Bachelor's| Self-employed|     Divorced|        Yes|           No|  Education|         No|      1| 2.1962047891945877|\n",
      "|CM9L1GTT2P| 40|132784|    228510|        480|           114|             4|        9.09|      48|    0.33|High School| Self-employed|      Married|        Yes|           No|      Other|        Yes|      0| 1.7209151705024701|\n",
      "|IA35XVH6ZO| 28|140466|    163781|        652|            94|             2|        9.08|      48|    0.23|High School|    Unemployed|      Married|         No|           No|  Education|         No|      0| 1.1659832272578416|\n",
      "|Y8UETC3LSG| 28|149227|    139759|        375|            56|             3|        5.84|      36|     0.8|        PhD|     Full-time|     Divorced|         No|           No|  Education|        Yes|      1| 0.9365530366488638|\n",
      "|RM6QSRHIYP| 41| 23265|     63527|        829|            87|             4|        9.73|      60|    0.45|   Master's|     Full-time|     Divorced|        Yes|           No|       Auto|        Yes|      0|  2.730582419944122|\n",
      "|GX5YQOGROM| 53|117550|     95744|        395|           112|             4|        3.58|      24|    0.73|High School|    Unemployed|       Single|         No|           No|       Auto|        Yes|      0| 0.8144959591663122|\n",
      "|X0BVPZLDC0| 57|139699|     88143|        635|           112|             4|        5.63|      48|     0.2|   Master's|     Part-time|     Divorced|         No|           No|       Home|         No|      0| 0.6309493983493082|\n",
      "|O5DM5MPPNA| 41| 74064|    230883|        432|            31|             2|         5.0|      60|    0.89|   Master's|    Unemployed|      Married|        Yes|           No|       Auto|         No|      0|  3.117344458846403|\n",
      "|ZDDRGVTEXS| 20|119704|     25697|        313|            49|             1|        9.63|      24|    0.28|        PhD|    Unemployed|       Single|        Yes|           No|       Home|         No|      0|0.21467118893270065|\n",
      "|9V0FJW7QPB| 39| 33015|     10889|        811|           106|             2|       13.56|      60|    0.66|   Master's| Self-employed|       Single|        Yes|           No|      Other|         No|      0|0.32981977888838404|\n",
      "|O1IKKLC69B| 19| 40718|     78515|        319|           119|             2|        14.0|      24|    0.17| Bachelor's| Self-employed|     Divorced|        Yes|           No|  Education|         No|      1| 1.9282626848077018|\n",
      "|F7487UU2BF| 41|123419|    161146|        376|            65|             4|       16.96|      60|    0.39|High School| Self-employed|       Single|        Yes|           No|      Other|        Yes|      0| 1.3056822693426458|\n",
      "+----------+---+------+----------+-----------+--------------+--------------+------------+--------+--------+-----------+--------------+-------------+-----------+-------------+-----------+-----------+-------+-------------------+\n",
      "only showing top 20 rows\n",
      "\n"
     ]
    }
   ],
   "source": [
    "#bir satırda en az 2 tane null olmayan deger olması lazım diyoruz\n",
    "#eger 2 den az null olmayan deger varsa o satır silinir\n",
    "add_col.na.drop(thresh=2).show() "
   ]
  },
  {
   "cell_type": "code",
   "execution_count": 39,
   "id": "aadc3978-6088-40d5-93f1-e46c38ac5750",
   "metadata": {},
   "outputs": [
    {
     "name": "stdout",
     "output_type": "stream",
     "text": [
      "+----------+---+------+----------+-----------+--------------+--------------+------------+--------+--------+-----------+--------------+-------------+-----------+-------------+-----------+-----------+-------+-------------------+\n",
      "|    LoanID|Age|Income|LoanAmount|CreditScore|MonthsEmployed|NumCreditLines|InterestRate|LoanTerm|DTIRatio|  Education|EmploymentType|MaritalStatus|HasMortgage|HasDependents|LoanPurpose|HasCoSigner|Default|        loan/income|\n",
      "+----------+---+------+----------+-----------+--------------+--------------+------------+--------+--------+-----------+--------------+-------------+-----------+-------------+-----------+-----------+-------+-------------------+\n",
      "|I38PQUQS96| 56| 85994|     50587|        520|            80|             4|       15.23|      36|    0.44| Bachelor's|     Full-time|     Divorced|        Yes|          Yes|      Other|        Yes|      0|  0.588261971765472|\n",
      "|HPSK72WA7R| 69| 50432|    124440|        458|            15|             1|        4.81|      60|    0.68|   Master's|     Full-time|      Married|         No|           No|      Other|        Yes|      0|  2.467480964467005|\n",
      "|C1OZ6DPJ8Y| 46| 84208|    129188|        451|            26|             3|       21.17|      24|    0.31|   Master's|    Unemployed|     Divorced|        Yes|          Yes|       Auto|         No|      1|  1.534153524605738|\n",
      "|V2KKSFM3UN| 32| 31713|     44799|        743|             0|             3|        7.07|      24|    0.23|High School|     Full-time|      Married|         No|           No|   Business|         No|      0| 1.4126383502033866|\n",
      "|EY08JDHTZP| 60| 20437|      9139|        633|             8|             4|        6.51|      48|    0.73| Bachelor's|    Unemployed|     Divorced|         No|          Yes|       Auto|         No|      0|0.44717913588100017|\n",
      "|A9S62RQ7US| 25| 90298|     90448|        720|            18|             2|       22.72|      24|     0.1|High School|    Unemployed|       Single|        Yes|           No|   Business|        Yes|      1| 1.0016611663602737|\n",
      "|H8GXPAOS71| 38|111188|    177025|        429|            80|             1|       19.11|      12|    0.16| Bachelor's|    Unemployed|       Single|        Yes|           No|       Home|        Yes|      0| 1.5921232507105083|\n",
      "|0HGZQKJ36W| 56|126802|    155511|        531|            67|             4|        8.15|      60|    0.43|        PhD|     Full-time|      Married|         No|           No|       Home|        Yes|      0|  1.226408100818599|\n",
      "|1R0N3LGNRJ| 36| 42053|     92357|        827|            83|             1|       23.94|      48|     0.2| Bachelor's| Self-employed|     Divorced|        Yes|           No|  Education|         No|      1| 2.1962047891945877|\n",
      "|CM9L1GTT2P| 40|132784|    228510|        480|           114|             4|        9.09|      48|    0.33|High School| Self-employed|      Married|        Yes|           No|      Other|        Yes|      0| 1.7209151705024701|\n",
      "|IA35XVH6ZO| 28|140466|    163781|        652|            94|             2|        9.08|      48|    0.23|High School|    Unemployed|      Married|         No|           No|  Education|         No|      0| 1.1659832272578416|\n",
      "|Y8UETC3LSG| 28|149227|    139759|        375|            56|             3|        5.84|      36|     0.8|        PhD|     Full-time|     Divorced|         No|           No|  Education|        Yes|      1| 0.9365530366488638|\n",
      "|RM6QSRHIYP| 41| 23265|     63527|        829|            87|             4|        9.73|      60|    0.45|   Master's|     Full-time|     Divorced|        Yes|           No|       Auto|        Yes|      0|  2.730582419944122|\n",
      "|GX5YQOGROM| 53|117550|     95744|        395|           112|             4|        3.58|      24|    0.73|High School|    Unemployed|       Single|         No|           No|       Auto|        Yes|      0| 0.8144959591663122|\n",
      "|X0BVPZLDC0| 57|139699|     88143|        635|           112|             4|        5.63|      48|     0.2|   Master's|     Part-time|     Divorced|         No|           No|       Home|         No|      0| 0.6309493983493082|\n",
      "|O5DM5MPPNA| 41| 74064|    230883|        432|            31|             2|         5.0|      60|    0.89|   Master's|    Unemployed|      Married|        Yes|           No|       Auto|         No|      0|  3.117344458846403|\n",
      "|ZDDRGVTEXS| 20|119704|     25697|        313|            49|             1|        9.63|      24|    0.28|        PhD|    Unemployed|       Single|        Yes|           No|       Home|         No|      0|0.21467118893270065|\n",
      "|9V0FJW7QPB| 39| 33015|     10889|        811|           106|             2|       13.56|      60|    0.66|   Master's| Self-employed|       Single|        Yes|           No|      Other|         No|      0|0.32981977888838404|\n",
      "|O1IKKLC69B| 19| 40718|     78515|        319|           119|             2|        14.0|      24|    0.17| Bachelor's| Self-employed|     Divorced|        Yes|           No|  Education|         No|      1| 1.9282626848077018|\n",
      "|F7487UU2BF| 41|123419|    161146|        376|            65|             4|       16.96|      60|    0.39|High School| Self-employed|       Single|        Yes|           No|      Other|        Yes|      0| 1.3056822693426458|\n",
      "+----------+---+------+----------+-----------+--------------+--------------+------------+--------+--------+-----------+--------------+-------------+-----------+-------------+-----------+-----------+-------+-------------------+\n",
      "only showing top 20 rows\n",
      "\n"
     ]
    }
   ],
   "source": [
    "# income sütununda null deger varsa o degerin denk geldiği satır kaldırılır\n",
    "add_col.na.drop(subset=[\"income\"]).show() "
   ]
  },
  {
   "cell_type": "code",
   "execution_count": 40,
   "id": "277bd9bf-c5e4-42c8-9ae9-a01a0ab0a2b5",
   "metadata": {},
   "outputs": [],
   "source": [
    "##fil missing value"
   ]
  },
  {
   "cell_type": "code",
   "execution_count": 41,
   "id": "e2ba129e-ae47-487e-b7fb-01e4dc6bac29",
   "metadata": {},
   "outputs": [
    {
     "name": "stdout",
     "output_type": "stream",
     "text": [
      "+----------+---+------+----------+-----------+--------------+--------------+------------+--------+--------+-----------+--------------+-------------+-----------+-------------+-----------+-----------+-------+-------------------+\n",
      "|    LoanID|Age|Income|LoanAmount|CreditScore|MonthsEmployed|NumCreditLines|InterestRate|LoanTerm|DTIRatio|  Education|EmploymentType|MaritalStatus|HasMortgage|HasDependents|LoanPurpose|HasCoSigner|Default|        loan/income|\n",
      "+----------+---+------+----------+-----------+--------------+--------------+------------+--------+--------+-----------+--------------+-------------+-----------+-------------+-----------+-----------+-------+-------------------+\n",
      "|I38PQUQS96| 56| 85994|     50587|        520|            80|             4|       15.23|      36|    0.44| Bachelor's|     Full-time|     Divorced|        Yes|          Yes|      Other|        Yes|      0|  0.588261971765472|\n",
      "|HPSK72WA7R| 69| 50432|    124440|        458|            15|             1|        4.81|      60|    0.68|   Master's|     Full-time|      Married|         No|           No|      Other|        Yes|      0|  2.467480964467005|\n",
      "|C1OZ6DPJ8Y| 46| 84208|    129188|        451|            26|             3|       21.17|      24|    0.31|   Master's|    Unemployed|     Divorced|        Yes|          Yes|       Auto|         No|      1|  1.534153524605738|\n",
      "|V2KKSFM3UN| 32| 31713|     44799|        743|             0|             3|        7.07|      24|    0.23|High School|     Full-time|      Married|         No|           No|   Business|         No|      0| 1.4126383502033866|\n",
      "|EY08JDHTZP| 60| 20437|      9139|        633|             8|             4|        6.51|      48|    0.73| Bachelor's|    Unemployed|     Divorced|         No|          Yes|       Auto|         No|      0|0.44717913588100017|\n",
      "|A9S62RQ7US| 25| 90298|     90448|        720|            18|             2|       22.72|      24|     0.1|High School|    Unemployed|       Single|        Yes|           No|   Business|        Yes|      1| 1.0016611663602737|\n",
      "|H8GXPAOS71| 38|111188|    177025|        429|            80|             1|       19.11|      12|    0.16| Bachelor's|    Unemployed|       Single|        Yes|           No|       Home|        Yes|      0| 1.5921232507105083|\n",
      "|0HGZQKJ36W| 56|126802|    155511|        531|            67|             4|        8.15|      60|    0.43|        PhD|     Full-time|      Married|         No|           No|       Home|        Yes|      0|  1.226408100818599|\n",
      "|1R0N3LGNRJ| 36| 42053|     92357|        827|            83|             1|       23.94|      48|     0.2| Bachelor's| Self-employed|     Divorced|        Yes|           No|  Education|         No|      1| 2.1962047891945877|\n",
      "|CM9L1GTT2P| 40|132784|    228510|        480|           114|             4|        9.09|      48|    0.33|High School| Self-employed|      Married|        Yes|           No|      Other|        Yes|      0| 1.7209151705024701|\n",
      "|IA35XVH6ZO| 28|140466|    163781|        652|            94|             2|        9.08|      48|    0.23|High School|    Unemployed|      Married|         No|           No|  Education|         No|      0| 1.1659832272578416|\n",
      "|Y8UETC3LSG| 28|149227|    139759|        375|            56|             3|        5.84|      36|     0.8|        PhD|     Full-time|     Divorced|         No|           No|  Education|        Yes|      1| 0.9365530366488638|\n",
      "|RM6QSRHIYP| 41| 23265|     63527|        829|            87|             4|        9.73|      60|    0.45|   Master's|     Full-time|     Divorced|        Yes|           No|       Auto|        Yes|      0|  2.730582419944122|\n",
      "|GX5YQOGROM| 53|117550|     95744|        395|           112|             4|        3.58|      24|    0.73|High School|    Unemployed|       Single|         No|           No|       Auto|        Yes|      0| 0.8144959591663122|\n",
      "|X0BVPZLDC0| 57|139699|     88143|        635|           112|             4|        5.63|      48|     0.2|   Master's|     Part-time|     Divorced|         No|           No|       Home|         No|      0| 0.6309493983493082|\n",
      "|O5DM5MPPNA| 41| 74064|    230883|        432|            31|             2|         5.0|      60|    0.89|   Master's|    Unemployed|      Married|        Yes|           No|       Auto|         No|      0|  3.117344458846403|\n",
      "|ZDDRGVTEXS| 20|119704|     25697|        313|            49|             1|        9.63|      24|    0.28|        PhD|    Unemployed|       Single|        Yes|           No|       Home|         No|      0|0.21467118893270065|\n",
      "|9V0FJW7QPB| 39| 33015|     10889|        811|           106|             2|       13.56|      60|    0.66|   Master's| Self-employed|       Single|        Yes|           No|      Other|         No|      0|0.32981977888838404|\n",
      "|O1IKKLC69B| 19| 40718|     78515|        319|           119|             2|        14.0|      24|    0.17| Bachelor's| Self-employed|     Divorced|        Yes|           No|  Education|         No|      1| 1.9282626848077018|\n",
      "|F7487UU2BF| 41|123419|    161146|        376|            65|             4|       16.96|      60|    0.39|High School| Self-employed|       Single|        Yes|           No|      Other|        Yes|      0| 1.3056822693426458|\n",
      "+----------+---+------+----------+-----------+--------------+--------------+------------+--------+--------+-----------+--------------+-------------+-----------+-------------+-----------+-----------+-------+-------------------+\n",
      "only showing top 20 rows\n",
      "\n"
     ]
    }
   ],
   "source": [
    "add_col.na.fill(\"nan\").show()"
   ]
  },
  {
   "cell_type": "code",
   "execution_count": 42,
   "id": "cc7dc26f-c310-4c90-af8d-75a7deab3f1a",
   "metadata": {},
   "outputs": [
    {
     "name": "stdout",
     "output_type": "stream",
     "text": [
      "+----------+---+------+----------+-----------+--------------+--------------+------------+--------+--------+-----------+--------------+-------------+-----------+-------------+-----------+-----------+-------+-------------------+\n",
      "|    LoanID|Age|Income|LoanAmount|CreditScore|MonthsEmployed|NumCreditLines|InterestRate|LoanTerm|DTIRatio|  Education|EmploymentType|MaritalStatus|HasMortgage|HasDependents|LoanPurpose|HasCoSigner|Default|        loan/income|\n",
      "+----------+---+------+----------+-----------+--------------+--------------+------------+--------+--------+-----------+--------------+-------------+-----------+-------------+-----------+-----------+-------+-------------------+\n",
      "|I38PQUQS96| 56| 85994|     50587|        520|            80|             4|       15.23|      36|    0.44| Bachelor's|     Full-time|     Divorced|        Yes|          Yes|      Other|        Yes|      0|  0.588261971765472|\n",
      "|HPSK72WA7R| 69| 50432|    124440|        458|            15|             1|        4.81|      60|    0.68|   Master's|     Full-time|      Married|         No|           No|      Other|        Yes|      0|  2.467480964467005|\n",
      "|C1OZ6DPJ8Y| 46| 84208|    129188|        451|            26|             3|       21.17|      24|    0.31|   Master's|    Unemployed|     Divorced|        Yes|          Yes|       Auto|         No|      1|  1.534153524605738|\n",
      "|V2KKSFM3UN| 32| 31713|     44799|        743|             0|             3|        7.07|      24|    0.23|High School|     Full-time|      Married|         No|           No|   Business|         No|      0| 1.4126383502033866|\n",
      "|EY08JDHTZP| 60| 20437|      9139|        633|             8|             4|        6.51|      48|    0.73| Bachelor's|    Unemployed|     Divorced|         No|          Yes|       Auto|         No|      0|0.44717913588100017|\n",
      "|A9S62RQ7US| 25| 90298|     90448|        720|            18|             2|       22.72|      24|     0.1|High School|    Unemployed|       Single|        Yes|           No|   Business|        Yes|      1| 1.0016611663602737|\n",
      "|H8GXPAOS71| 38|111188|    177025|        429|            80|             1|       19.11|      12|    0.16| Bachelor's|    Unemployed|       Single|        Yes|           No|       Home|        Yes|      0| 1.5921232507105083|\n",
      "|0HGZQKJ36W| 56|126802|    155511|        531|            67|             4|        8.15|      60|    0.43|        PhD|     Full-time|      Married|         No|           No|       Home|        Yes|      0|  1.226408100818599|\n",
      "|1R0N3LGNRJ| 36| 42053|     92357|        827|            83|             1|       23.94|      48|     0.2| Bachelor's| Self-employed|     Divorced|        Yes|           No|  Education|         No|      1| 2.1962047891945877|\n",
      "|CM9L1GTT2P| 40|132784|    228510|        480|           114|             4|        9.09|      48|    0.33|High School| Self-employed|      Married|        Yes|           No|      Other|        Yes|      0| 1.7209151705024701|\n",
      "|IA35XVH6ZO| 28|140466|    163781|        652|            94|             2|        9.08|      48|    0.23|High School|    Unemployed|      Married|         No|           No|  Education|         No|      0| 1.1659832272578416|\n",
      "|Y8UETC3LSG| 28|149227|    139759|        375|            56|             3|        5.84|      36|     0.8|        PhD|     Full-time|     Divorced|         No|           No|  Education|        Yes|      1| 0.9365530366488638|\n",
      "|RM6QSRHIYP| 41| 23265|     63527|        829|            87|             4|        9.73|      60|    0.45|   Master's|     Full-time|     Divorced|        Yes|           No|       Auto|        Yes|      0|  2.730582419944122|\n",
      "|GX5YQOGROM| 53|117550|     95744|        395|           112|             4|        3.58|      24|    0.73|High School|    Unemployed|       Single|         No|           No|       Auto|        Yes|      0| 0.8144959591663122|\n",
      "|X0BVPZLDC0| 57|139699|     88143|        635|           112|             4|        5.63|      48|     0.2|   Master's|     Part-time|     Divorced|         No|           No|       Home|         No|      0| 0.6309493983493082|\n",
      "|O5DM5MPPNA| 41| 74064|    230883|        432|            31|             2|         5.0|      60|    0.89|   Master's|    Unemployed|      Married|        Yes|           No|       Auto|         No|      0|  3.117344458846403|\n",
      "|ZDDRGVTEXS| 20|119704|     25697|        313|            49|             1|        9.63|      24|    0.28|        PhD|    Unemployed|       Single|        Yes|           No|       Home|         No|      0|0.21467118893270065|\n",
      "|9V0FJW7QPB| 39| 33015|     10889|        811|           106|             2|       13.56|      60|    0.66|   Master's| Self-employed|       Single|        Yes|           No|      Other|         No|      0|0.32981977888838404|\n",
      "|O1IKKLC69B| 19| 40718|     78515|        319|           119|             2|        14.0|      24|    0.17| Bachelor's| Self-employed|     Divorced|        Yes|           No|  Education|         No|      1| 1.9282626848077018|\n",
      "|F7487UU2BF| 41|123419|    161146|        376|            65|             4|       16.96|      60|    0.39|High School| Self-employed|       Single|        Yes|           No|      Other|        Yes|      0| 1.3056822693426458|\n",
      "+----------+---+------+----------+-----------+--------------+--------------+------------+--------+--------+-----------+--------------+-------------+-----------+-------------+-----------+-----------+-------+-------------------+\n",
      "only showing top 20 rows\n",
      "\n"
     ]
    }
   ],
   "source": [
    "# belirli sutunlara bunu uygulamak\n",
    "add_col.na.fill(\"nan\",[\"income\",\"LoanID\"]).show()"
   ]
  },
  {
   "cell_type": "code",
   "execution_count": 44,
   "id": "753c56b3-34ef-4528-8ea4-71e06e0cfd24",
   "metadata": {},
   "outputs": [],
   "source": [
    "#fill na with mean median etc."
   ]
  },
  {
   "cell_type": "code",
   "execution_count": 45,
   "id": "30c689e6-df4e-426b-99f1-91ba6543a0b9",
   "metadata": {},
   "outputs": [],
   "source": [
    "from pyspark.ml.feature import Imputer"
   ]
  },
  {
   "cell_type": "code",
   "execution_count": 46,
   "id": "601b56bd-12b5-4e3e-ac78-4a13933dd138",
   "metadata": {},
   "outputs": [],
   "source": [
    "imputer= Imputer(\n",
    "    inputCols=[\"Income\",\"LoanAmount\"],\n",
    "    outputCols=[\"{}_imputed\".format(c) for c in [\"Income\",\"LoanAmount\"]]\n",
    ").setStrategy(\"mean\") #median"
   ]
  },
  {
   "cell_type": "code",
   "execution_count": 47,
   "id": "d673763c-724f-4262-a764-7ee2dbcf91ef",
   "metadata": {},
   "outputs": [
    {
     "name": "stdout",
     "output_type": "stream",
     "text": [
      "+----------+---+------+----------+-----------+--------------+--------------+------------+--------+--------+----------+--------------+-------------+-----------+-------------+-----------+-----------+-------+-----------------+--------------+------------------+\n",
      "|    LoanID|Age|Income|LoanAmount|CreditScore|MonthsEmployed|NumCreditLines|InterestRate|LoanTerm|DTIRatio| Education|EmploymentType|MaritalStatus|HasMortgage|HasDependents|LoanPurpose|HasCoSigner|Default|      loan/income|Income_imputed|LoanAmount_imputed|\n",
      "+----------+---+------+----------+-----------+--------------+--------------+------------+--------+--------+----------+--------------+-------------+-----------+-------------+-----------+-----------+-------+-----------------+--------------+------------------+\n",
      "|I38PQUQS96| 56| 85994|     50587|        520|            80|             4|       15.23|      36|    0.44|Bachelor's|     Full-time|     Divorced|        Yes|          Yes|      Other|        Yes|      0|0.588261971765472|         85994|             50587|\n",
      "|HPSK72WA7R| 69| 50432|    124440|        458|            15|             1|        4.81|      60|    0.68|  Master's|     Full-time|      Married|         No|           No|      Other|        Yes|      0|2.467480964467005|         50432|            124440|\n",
      "|C1OZ6DPJ8Y| 46| 84208|    129188|        451|            26|             3|       21.17|      24|    0.31|  Master's|    Unemployed|     Divorced|        Yes|          Yes|       Auto|         No|      1|1.534153524605738|         84208|            129188|\n",
      "+----------+---+------+----------+-----------+--------------+--------------+------------+--------+--------+----------+--------------+-------------+-----------+-------------+-----------+-----------+-------+-----------------+--------------+------------------+\n",
      "only showing top 3 rows\n",
      "\n"
     ]
    }
   ],
   "source": [
    "imputer.fit(add_col).transform(add_col).show(3)"
   ]
  },
  {
   "cell_type": "markdown",
   "id": "89e36502-9a12-4c4b-8ea9-89cb64658323",
   "metadata": {},
   "source": [
    "# Filter OPerations"
   ]
  },
  {
   "cell_type": "code",
   "execution_count": 48,
   "id": "721f2fa6-4da4-484c-9eb1-194e3d42f8cf",
   "metadata": {},
   "outputs": [],
   "source": [
    "#geliri 20000 den yuksek olanlar"
   ]
  },
  {
   "cell_type": "code",
   "execution_count": 49,
   "id": "a49a36a5-39d4-4fd2-a5d0-e7092f7c06b7",
   "metadata": {},
   "outputs": [
    {
     "name": "stdout",
     "output_type": "stream",
     "text": [
      "+----------+---+------+----------+-----------+--------------+--------------+------------+--------+--------+-----------+--------------+-------------+-----------+-------------+-----------+-----------+-------+-------------------+\n",
      "|    LoanID|Age|Income|LoanAmount|CreditScore|MonthsEmployed|NumCreditLines|InterestRate|LoanTerm|DTIRatio|  Education|EmploymentType|MaritalStatus|HasMortgage|HasDependents|LoanPurpose|HasCoSigner|Default|        loan/income|\n",
      "+----------+---+------+----------+-----------+--------------+--------------+------------+--------+--------+-----------+--------------+-------------+-----------+-------------+-----------+-----------+-------+-------------------+\n",
      "|CM9L1GTT2P| 40|132784|    228510|        480|           114|             4|        9.09|      48|    0.33|High School| Self-employed|      Married|        Yes|           No|      Other|        Yes|      0| 1.7209151705024701|\n",
      "|IA35XVH6ZO| 28|140466|    163781|        652|            94|             2|        9.08|      48|    0.23|High School|    Unemployed|      Married|         No|           No|  Education|         No|      0| 1.1659832272578416|\n",
      "|Y8UETC3LSG| 28|149227|    139759|        375|            56|             3|        5.84|      36|     0.8|        PhD|     Full-time|     Divorced|         No|           No|  Education|        Yes|      1| 0.9365530366488638|\n",
      "|X0BVPZLDC0| 57|139699|     88143|        635|           112|             4|        5.63|      48|     0.2|   Master's|     Part-time|     Divorced|         No|           No|       Home|         No|      0| 0.6309493983493082|\n",
      "|A22KI1B6SE| 47|146113|    100621|        419|            55|             1|        9.32|      12|    0.38| Bachelor's|    Unemployed|      Married|        Yes|          Yes|   Business|         No|      0|  0.688651933777282|\n",
      "|1MUSHWD9TW| 55|132058|    130912|        583|            48|             4|        5.82|      60|    0.47|High School|    Unemployed|      Married|         No|          Yes|   Business|        Yes|      0| 0.9913219948810371|\n",
      "|YIGLFWKNH5| 42|141412|    197764|        580|            57|             2|       10.18|      12|    0.19| Bachelor's|     Full-time|      Married|         No|           No|  Education|         No|      0| 1.3984951772126835|\n",
      "|EGBQ6R80VB| 20|139321|     43049|        458|           117|             2|        7.16|      36|    0.53|   Master's| Self-employed|       Single|        Yes|           No|       Home|         No|      1| 0.3089914657517531|\n",
      "|LMQOF5PTTT| 42|143244|    240591|        393|            96|             3|       23.15|      36|    0.16|High School| Self-employed|      Married|         No|          Yes|   Business|         No|      0|  1.679588673871157|\n",
      "|092M7Z5Z6M| 53|149401|    245626|        534|            18|             1|       15.82|      60|    0.25| Bachelor's|    Unemployed|     Divorced|         No|          Yes|       Auto|         No|      0|  1.644071994163359|\n",
      "|ZY51VR44DK| 21|142860|    238718|        318|            35|             3|       13.06|      48|    0.36|High School|     Part-time|      Married|         No|          Yes|   Business|        Yes|      0| 1.6709925801483971|\n",
      "|T4DU8L04DL| 21|142986|    142571|        674|            69|             2|       19.35|      60|    0.56| Bachelor's| Self-employed|     Divorced|        Yes|          Yes|  Education|         No|      0| 0.9970976179486104|\n",
      "|5KCTUT4OSE| 43|130625|     17462|        303|            22|             3|       17.91|      60|    0.65|   Master's| Self-employed|      Married|         No|          Yes|   Business|         No|      0|0.13368038277511962|\n",
      "|43Z22DZB7Z| 31|143837|    193310|        658|            63|             2|       14.15|      60|    0.45| Bachelor's| Self-employed|     Divorced|        Yes|          Yes|      Other|        Yes|      0| 1.3439518343680694|\n",
      "|VFVJ0MCK4P| 40|137937|    169513|        542|            25|             2|       14.38|      12|    0.57|High School|     Part-time|     Divorced|         No|          Yes|      Other|         No|      1| 1.2289160993787018|\n",
      "|I7Z9O3RG38| 62|138569|    248333|        453|           101|             2|        14.1|      24|    0.44|High School|     Part-time|      Married|        Yes|          Yes|      Other|        Yes|      0| 1.7921252228131834|\n",
      "|UBVMQUAJS3| 18|148123|    243038|        734|           105|             4|       10.29|      60|    0.71|High School| Self-employed|     Divorced|        Yes|           No|       Home|         No|      0|  1.640785023257698|\n",
      "|WRIDPTL1IH| 41|145047|     34875|        811|            58|             2|       21.59|      36|    0.83|   Master's|     Full-time|     Divorced|        Yes|          Yes|  Education|         No|      0|  0.240439305880163|\n",
      "|SZSNPTKVFY| 61|137295|     81022|        447|            10|             1|        8.14|      12|    0.24| Bachelor's|    Unemployed|       Single|         No|          Yes|  Education|        Yes|      0| 0.5901307403765614|\n",
      "|OWLIUEFU4I| 52|132499|     84549|        315|            48|             1|       21.42|      12|    0.47|        PhD| Self-employed|     Divorced|         No|          Yes|      Other|        Yes|      0| 0.6381104763054816|\n",
      "+----------+---+------+----------+-----------+--------------+--------------+------------+--------+--------+-----------+--------------+-------------+-----------+-------------+-----------+-----------+-------+-------------------+\n",
      "only showing top 20 rows\n",
      "\n"
     ]
    }
   ],
   "source": [
    "add_col.filter(\"Income>=130000\").show()"
   ]
  },
  {
   "cell_type": "code",
   "execution_count": 50,
   "id": "8aa70334-2beb-4f7f-b5dc-642486bf305f",
   "metadata": {},
   "outputs": [
    {
     "name": "stdout",
     "output_type": "stream",
     "text": [
      "+----------+---+------+\n",
      "|    LoanID|Age|Income|\n",
      "+----------+---+------+\n",
      "|CM9L1GTT2P| 40|132784|\n",
      "|IA35XVH6ZO| 28|140466|\n",
      "|Y8UETC3LSG| 28|149227|\n",
      "|X0BVPZLDC0| 57|139699|\n",
      "|A22KI1B6SE| 47|146113|\n",
      "|1MUSHWD9TW| 55|132058|\n",
      "|YIGLFWKNH5| 42|141412|\n",
      "|EGBQ6R80VB| 20|139321|\n",
      "|LMQOF5PTTT| 42|143244|\n",
      "|092M7Z5Z6M| 53|149401|\n",
      "|ZY51VR44DK| 21|142860|\n",
      "|T4DU8L04DL| 21|142986|\n",
      "|5KCTUT4OSE| 43|130625|\n",
      "|43Z22DZB7Z| 31|143837|\n",
      "|VFVJ0MCK4P| 40|137937|\n",
      "|I7Z9O3RG38| 62|138569|\n",
      "|UBVMQUAJS3| 18|148123|\n",
      "|WRIDPTL1IH| 41|145047|\n",
      "|SZSNPTKVFY| 61|137295|\n",
      "|OWLIUEFU4I| 52|132499|\n",
      "+----------+---+------+\n",
      "only showing top 20 rows\n",
      "\n"
     ]
    }
   ],
   "source": [
    "add_col.filter(\"Income>=130000\").select([\"LoanID\",\"Age\",\"Income\"]).show()"
   ]
  },
  {
   "cell_type": "code",
   "execution_count": 51,
   "id": "0f2d3a5d-1f43-4a73-999f-f3b7c8895800",
   "metadata": {},
   "outputs": [
    {
     "name": "stdout",
     "output_type": "stream",
     "text": [
      "+----------+---+------+\n",
      "|    LoanID|Age|Income|\n",
      "+----------+---+------+\n",
      "|CM9L1GTT2P| 40|132784|\n",
      "|X0BVPZLDC0| 57|139699|\n",
      "|1MUSHWD9TW| 55|132058|\n",
      "|EGBQ6R80VB| 20|139321|\n",
      "|5KCTUT4OSE| 43|130625|\n",
      "|VFVJ0MCK4P| 40|137937|\n",
      "|I7Z9O3RG38| 62|138569|\n",
      "|SZSNPTKVFY| 61|137295|\n",
      "|OWLIUEFU4I| 52|132499|\n",
      "|XOBT7E4VYB| 52|132751|\n",
      "|4066OHTN9A| 61|134076|\n",
      "|05V6LGJBRI| 49|133879|\n",
      "|7ECS04LJOE| 49|134889|\n",
      "|4QNP5FN0KW| 37|131836|\n",
      "|GY0VKFDZON| 59|135003|\n",
      "|2JR521RD87| 18|139771|\n",
      "|OFO0NGL3JH| 39|138971|\n",
      "|V0QRIPQBZF| 33|132284|\n",
      "|YNOFR9HOUA| 43|135815|\n",
      "|UTY71M1X1F| 52|139946|\n",
      "+----------+---+------+\n",
      "only showing top 20 rows\n",
      "\n"
     ]
    }
   ],
   "source": [
    "add_col.filter((add_col[\"Income\"]>=130000) & (add_col[\"Income\"]<=140000)).select([\"LoanID\",\"Age\",\"Income\"]).show()"
   ]
  },
  {
   "cell_type": "code",
   "execution_count": 52,
   "id": "6f311bf0-3759-4edb-9acc-341e9db19bae",
   "metadata": {},
   "outputs": [
    {
     "name": "stdout",
     "output_type": "stream",
     "text": [
      "+----------+---+------+\n",
      "|    LoanID|Age|Income|\n",
      "+----------+---+------+\n",
      "|I38PQUQS96| 56| 85994|\n",
      "|HPSK72WA7R| 69| 50432|\n",
      "|C1OZ6DPJ8Y| 46| 84208|\n",
      "|V2KKSFM3UN| 32| 31713|\n",
      "|EY08JDHTZP| 60| 20437|\n",
      "|A9S62RQ7US| 25| 90298|\n",
      "|H8GXPAOS71| 38|111188|\n",
      "|0HGZQKJ36W| 56|126802|\n",
      "|1R0N3LGNRJ| 36| 42053|\n",
      "|CM9L1GTT2P| 40|132784|\n",
      "|IA35XVH6ZO| 28|140466|\n",
      "|Y8UETC3LSG| 28|149227|\n",
      "|RM6QSRHIYP| 41| 23265|\n",
      "|GX5YQOGROM| 53|117550|\n",
      "|X0BVPZLDC0| 57|139699|\n",
      "|O5DM5MPPNA| 41| 74064|\n",
      "|ZDDRGVTEXS| 20|119704|\n",
      "|9V0FJW7QPB| 39| 33015|\n",
      "|O1IKKLC69B| 19| 40718|\n",
      "|F7487UU2BF| 41|123419|\n",
      "+----------+---+------+\n",
      "only showing top 20 rows\n",
      "\n"
     ]
    }
   ],
   "source": [
    "add_col.filter((add_col[\"Income\"]>=130000) | (add_col[\"Income\"]<=140000)).select([\"LoanID\",\"Age\",\"Income\"]).show()"
   ]
  },
  {
   "cell_type": "code",
   "execution_count": 53,
   "id": "0e03b1b0-f4d2-4a1f-b28d-1e055e8cabcc",
   "metadata": {},
   "outputs": [
    {
     "name": "stdout",
     "output_type": "stream",
     "text": [
      "+----------+---+------+----------+-----------+--------------+--------------+------------+--------+--------+----------+--------------+-------------+-----------+-------------+-----------+-----------+-------+-----------------+\n",
      "|    LoanID|Age|Income|LoanAmount|CreditScore|MonthsEmployed|NumCreditLines|InterestRate|LoanTerm|DTIRatio| Education|EmploymentType|MaritalStatus|HasMortgage|HasDependents|LoanPurpose|HasCoSigner|Default|      loan/income|\n",
      "+----------+---+------+----------+-----------+--------------+--------------+------------+--------+--------+----------+--------------+-------------+-----------+-------------+-----------+-----------+-------+-----------------+\n",
      "|I38PQUQS96| 56| 85994|     50587|        520|            80|             4|       15.23|      36|    0.44|Bachelor's|     Full-time|     Divorced|        Yes|          Yes|      Other|        Yes|      0|0.588261971765472|\n",
      "|HPSK72WA7R| 69| 50432|    124440|        458|            15|             1|        4.81|      60|    0.68|  Master's|     Full-time|      Married|         No|           No|      Other|        Yes|      0|2.467480964467005|\n",
      "+----------+---+------+----------+-----------+--------------+--------------+------------+--------+--------+----------+--------------+-------------+-----------+-------------+-----------+-----------+-------+-----------------+\n",
      "only showing top 2 rows\n",
      "\n"
     ]
    }
   ],
   "source": [
    "add_col.filter(~(add_col[\"Income\"]>=130000)).show(2)"
   ]
  },
  {
   "cell_type": "markdown",
   "id": "22a86630-2a2d-48da-b3d9-1ea61f8531b2",
   "metadata": {},
   "source": [
    "# GroupBy and Aggregate"
   ]
  },
  {
   "cell_type": "code",
   "execution_count": 54,
   "id": "b659d154-d32e-432a-9828-e0334f8ebdb8",
   "metadata": {},
   "outputs": [
    {
     "name": "stdout",
     "output_type": "stream",
     "text": [
      "+-----------+-----------+\n",
      "|  Education|sum(Income)|\n",
      "+-----------+-----------+\n",
      "|High School| 5258845173|\n",
      "|        PhD| 5228319287|\n",
      "| Bachelor's| 5315353460|\n",
      "|   Master's| 5263432011|\n",
      "+-----------+-----------+\n",
      "\n"
     ]
    }
   ],
   "source": [
    "add_col.groupBy('Education').sum(\"Income\").show()"
   ]
  },
  {
   "cell_type": "code",
   "execution_count": 55,
   "id": "21a8cd3f-87d5-48fb-8f90-a273fdb0771a",
   "metadata": {},
   "outputs": [
    {
     "name": "stdout",
     "output_type": "stream",
     "text": [
      "+-----------+-------------+-----------+\n",
      "|  Education|MaritalStatus|sum(Income)|\n",
      "+-----------+-------------+-----------+\n",
      "|High School|     Divorced| 1772581858|\n",
      "| Bachelor's|     Divorced| 1732725842|\n",
      "|        PhD|       Single| 1735180940|\n",
      "| Bachelor's|       Single| 1791622030|\n",
      "|        PhD|      Married| 1735158102|\n",
      "|        PhD|     Divorced| 1757980245|\n",
      "|High School|       Single| 1746604010|\n",
      "|   Master's|      Married| 1767681678|\n",
      "|   Master's|       Single| 1744536046|\n",
      "|High School|      Married| 1739659305|\n",
      "| Bachelor's|      Married| 1791005588|\n",
      "|   Master's|     Divorced| 1751214287|\n",
      "+-----------+-------------+-----------+\n",
      "\n"
     ]
    }
   ],
   "source": [
    "add_col.groupBy(['Education','MaritalStatus']).sum(\"Income\").show()"
   ]
  },
  {
   "cell_type": "code",
   "execution_count": 56,
   "id": "4f62e2c2-2186-4ff0-b2ae-65c2c9644272",
   "metadata": {},
   "outputs": [
    {
     "name": "stdout",
     "output_type": "stream",
     "text": [
      "+-----------+-----------------+\n",
      "|  Education|      avg(Income)|\n",
      "+-----------+-----------------+\n",
      "|High School|82294.18294915732|\n",
      "|        PhD|82287.78958716968|\n",
      "| Bachelor's|82580.14262188111|\n",
      "|   Master's|82835.20893596261|\n",
      "+-----------+-----------------+\n",
      "\n"
     ]
    }
   ],
   "source": [
    "add_col.groupBy('Education').mean(\"Income\").show()"
   ]
  },
  {
   "cell_type": "code",
   "execution_count": 57,
   "id": "20c2013c-72b5-4360-a777-6a415f7625aa",
   "metadata": {},
   "outputs": [
    {
     "name": "stdout",
     "output_type": "stream",
     "text": [
      "+-----------+-----+\n",
      "|  Education|count|\n",
      "+-----------+-----+\n",
      "|High School|63903|\n",
      "|        PhD|63537|\n",
      "| Bachelor's|64366|\n",
      "|   Master's|63541|\n",
      "+-----------+-----+\n",
      "\n"
     ]
    }
   ],
   "source": [
    "add_col.groupBy('Education').count().show()"
   ]
  },
  {
   "cell_type": "code",
   "execution_count": 58,
   "id": "1373fccc-a443-434f-8059-f5363e4a4fc0",
   "metadata": {},
   "outputs": [
    {
     "name": "stdout",
     "output_type": "stream",
     "text": [
      "+-----------+-------------+-----+\n",
      "|  Education|MaritalStatus|count|\n",
      "+-----------+-------------+-----+\n",
      "|High School|     Divorced|21477|\n",
      "| Bachelor's|     Divorced|21070|\n",
      "|        PhD|       Single|21058|\n",
      "| Bachelor's|       Single|21581|\n",
      "|        PhD|      Married|21124|\n",
      "|        PhD|     Divorced|21355|\n",
      "|High School|       Single|21247|\n",
      "|   Master's|      Married|21284|\n",
      "|   Master's|       Single|21126|\n",
      "|High School|      Married|21179|\n",
      "| Bachelor's|      Married|21715|\n",
      "|   Master's|     Divorced|21131|\n",
      "+-----------+-------------+-----+\n",
      "\n"
     ]
    }
   ],
   "source": [
    "add_col.groupBy(['Education','MaritalStatus']).count().show()"
   ]
  },
  {
   "cell_type": "code",
   "execution_count": 59,
   "id": "f9cb5a1c-74d4-4386-8356-5ea819ba6e5d",
   "metadata": {},
   "outputs": [
    {
     "name": "stdout",
     "output_type": "stream",
     "text": [
      "+-----------+\n",
      "|sum(Income)|\n",
      "+-----------+\n",
      "|21065949931|\n",
      "+-----------+\n",
      "\n"
     ]
    }
   ],
   "source": [
    "add_col.agg({'Income':'sum'}).show()"
   ]
  },
  {
   "cell_type": "code",
   "execution_count": 60,
   "id": "66aeb303-c519-40ad-ae3d-d4653e1b50c4",
   "metadata": {},
   "outputs": [
    {
     "name": "stdout",
     "output_type": "stream",
     "text": [
      "+-----------+-----------+\n",
      "|  Education|max(Income)|\n",
      "+-----------+-----------+\n",
      "|High School|     149999|\n",
      "|        PhD|     149997|\n",
      "| Bachelor's|     149999|\n",
      "|   Master's|     149995|\n",
      "+-----------+-----------+\n",
      "\n"
     ]
    }
   ],
   "source": [
    "add_col.groupBy(['Education']).max(\"Income\").show()"
   ]
  },
  {
   "cell_type": "code",
   "execution_count": 62,
   "id": "6ad46ac3-a4b3-42f9-a52d-2b7f833c6285",
   "metadata": {},
   "outputs": [
    {
     "name": "stdout",
     "output_type": "stream",
     "text": [
      "root\n",
      " |-- LoanID: string (nullable = true)\n",
      " |-- Age: integer (nullable = true)\n",
      " |-- Income: integer (nullable = true)\n",
      " |-- LoanAmount: integer (nullable = true)\n",
      " |-- CreditScore: integer (nullable = true)\n",
      " |-- MonthsEmployed: integer (nullable = true)\n",
      " |-- NumCreditLines: integer (nullable = true)\n",
      " |-- InterestRate: double (nullable = true)\n",
      " |-- LoanTerm: integer (nullable = true)\n",
      " |-- DTIRatio: double (nullable = true)\n",
      " |-- Education: string (nullable = true)\n",
      " |-- EmploymentType: string (nullable = true)\n",
      " |-- MaritalStatus: string (nullable = true)\n",
      " |-- HasMortgage: string (nullable = true)\n",
      " |-- HasDependents: string (nullable = true)\n",
      " |-- LoanPurpose: string (nullable = true)\n",
      " |-- HasCoSigner: string (nullable = true)\n",
      " |-- Default: integer (nullable = true)\n",
      " |-- loan/income: double (nullable = true)\n",
      "\n"
     ]
    }
   ],
   "source": [
    "add_col.printSchema()"
   ]
  },
  {
   "cell_type": "code",
   "execution_count": 63,
   "id": "74898388-4d45-40b9-b4bd-2dc255127ddc",
   "metadata": {},
   "outputs": [
    {
     "data": {
      "text/plain": [
       "[('LoanID', 'string'),\n",
       " ('Age', 'int'),\n",
       " ('Income', 'int'),\n",
       " ('LoanAmount', 'int'),\n",
       " ('CreditScore', 'int'),\n",
       " ('MonthsEmployed', 'int'),\n",
       " ('NumCreditLines', 'int'),\n",
       " ('InterestRate', 'double'),\n",
       " ('LoanTerm', 'int'),\n",
       " ('DTIRatio', 'double'),\n",
       " ('Education', 'string'),\n",
       " ('EmploymentType', 'string'),\n",
       " ('MaritalStatus', 'string'),\n",
       " ('HasMortgage', 'string'),\n",
       " ('HasDependents', 'string'),\n",
       " ('LoanPurpose', 'string'),\n",
       " ('HasCoSigner', 'string'),\n",
       " ('Default', 'int'),\n",
       " ('loan/income', 'double')]"
      ]
     },
     "execution_count": 63,
     "metadata": {},
     "output_type": "execute_result"
    }
   ],
   "source": [
    "add_col.dtypes"
   ]
  },
  {
   "cell_type": "code",
   "execution_count": 64,
   "id": "e178e690-cae8-4547-9273-c3d2f84541f0",
   "metadata": {},
   "outputs": [
    {
     "data": {
      "text/plain": [
       "'string'"
      ]
     },
     "execution_count": 64,
     "metadata": {},
     "output_type": "execute_result"
    }
   ],
   "source": [
    "add_col.dtypes[0][1]"
   ]
  },
  {
   "cell_type": "code",
   "execution_count": 65,
   "id": "c4f0c786-0f66-4cd9-b943-832fb8ff8557",
   "metadata": {},
   "outputs": [
    {
     "data": {
      "text/plain": [
       "False"
      ]
     },
     "execution_count": 65,
     "metadata": {},
     "output_type": "execute_result"
    }
   ],
   "source": [
    "add_col.dtypes[0][1]=='double'"
   ]
  },
  {
   "cell_type": "code",
   "execution_count": 66,
   "id": "589707de-8d06-4e8e-a7b6-bc95d0c8ac6a",
   "metadata": {},
   "outputs": [
    {
     "data": {
      "text/plain": [
       "19"
      ]
     },
     "execution_count": 66,
     "metadata": {},
     "output_type": "execute_result"
    }
   ],
   "source": [
    "len(add_col.dtypes)"
   ]
  },
  {
   "cell_type": "code",
   "execution_count": 67,
   "id": "253a4ee0-517f-48ac-b87b-1bf56231b431",
   "metadata": {},
   "outputs": [],
   "source": [
    "int_list=[]"
   ]
  },
  {
   "cell_type": "code",
   "execution_count": null,
   "id": "d1a5837d-fea5-414c-bf33-e5384b4cdcbb",
   "metadata": {},
   "outputs": [],
   "source": []
  },
  {
   "cell_type": "code",
   "execution_count": 68,
   "id": "eb8484f9-efee-4458-993f-172e4f3f57a8",
   "metadata": {},
   "outputs": [],
   "source": [
    "model_df=add_col.select('Age','Income','LoanAmount','CreditScore','MonthsEmployed','NumCreditLines','InterestRate','LoanTerm','DTIRatio','loan/income','Default')"
   ]
  },
  {
   "cell_type": "code",
   "execution_count": 69,
   "id": "45538d20-8195-4275-9f7a-4db156844738",
   "metadata": {},
   "outputs": [
    {
     "name": "stdout",
     "output_type": "stream",
     "text": [
      "root\n",
      " |-- Age: integer (nullable = true)\n",
      " |-- Income: integer (nullable = true)\n",
      " |-- LoanAmount: integer (nullable = true)\n",
      " |-- CreditScore: integer (nullable = true)\n",
      " |-- MonthsEmployed: integer (nullable = true)\n",
      " |-- NumCreditLines: integer (nullable = true)\n",
      " |-- InterestRate: double (nullable = true)\n",
      " |-- LoanTerm: integer (nullable = true)\n",
      " |-- DTIRatio: double (nullable = true)\n",
      " |-- loan/income: double (nullable = true)\n",
      " |-- Default: integer (nullable = true)\n",
      "\n"
     ]
    }
   ],
   "source": [
    "model_df.printSchema()"
   ]
  },
  {
   "cell_type": "code",
   "execution_count": 70,
   "id": "9bdea30e-a0ed-4f33-a6bf-7732c01a3e75",
   "metadata": {},
   "outputs": [],
   "source": [
    "from pyspark.ml.feature import VectorAssembler"
   ]
  },
  {
   "cell_type": "code",
   "execution_count": 71,
   "id": "8c938647-0d51-418e-abfd-022d1b20c4b8",
   "metadata": {},
   "outputs": [],
   "source": [
    "featureassembler=VectorAssembler(inputCols=['Age','Income','LoanAmount','CreditScore','MonthsEmployed','NumCreditLines','InterestRate','LoanTerm','DTIRatio','loan/income'],outputCol=\"independentfeatures\")"
   ]
  },
  {
   "cell_type": "code",
   "execution_count": 72,
   "id": "ad5072f8-5887-4f03-a5b4-efae3a3e9e24",
   "metadata": {},
   "outputs": [],
   "source": [
    "output=featureassembler.transform(model_df)"
   ]
  },
  {
   "cell_type": "code",
   "execution_count": 73,
   "id": "8c5adaa4-806a-4ea5-ba1c-72f04bcddf0f",
   "metadata": {},
   "outputs": [
    {
     "name": "stdout",
     "output_type": "stream",
     "text": [
      "+---+------+----------+-----------+--------------+--------------+------------+--------+--------+-------------------+-------+--------------------+\n",
      "|Age|Income|LoanAmount|CreditScore|MonthsEmployed|NumCreditLines|InterestRate|LoanTerm|DTIRatio|        loan/income|Default| independentfeatures|\n",
      "+---+------+----------+-----------+--------------+--------------+------------+--------+--------+-------------------+-------+--------------------+\n",
      "| 56| 85994|     50587|        520|            80|             4|       15.23|      36|    0.44|  0.588261971765472|      0|[56.0,85994.0,505...|\n",
      "| 69| 50432|    124440|        458|            15|             1|        4.81|      60|    0.68|  2.467480964467005|      0|[69.0,50432.0,124...|\n",
      "| 46| 84208|    129188|        451|            26|             3|       21.17|      24|    0.31|  1.534153524605738|      1|[46.0,84208.0,129...|\n",
      "| 32| 31713|     44799|        743|             0|             3|        7.07|      24|    0.23| 1.4126383502033866|      0|[32.0,31713.0,447...|\n",
      "| 60| 20437|      9139|        633|             8|             4|        6.51|      48|    0.73|0.44717913588100017|      0|[60.0,20437.0,913...|\n",
      "+---+------+----------+-----------+--------------+--------------+------------+--------+--------+-------------------+-------+--------------------+\n",
      "only showing top 5 rows\n",
      "\n"
     ]
    }
   ],
   "source": [
    "output.show(5)"
   ]
  },
  {
   "cell_type": "code",
   "execution_count": 74,
   "id": "76eb7044-ff22-495c-99ba-f79223da3514",
   "metadata": {},
   "outputs": [
    {
     "data": {
      "text/plain": [
       "['Age',\n",
       " 'Income',\n",
       " 'LoanAmount',\n",
       " 'CreditScore',\n",
       " 'MonthsEmployed',\n",
       " 'NumCreditLines',\n",
       " 'InterestRate',\n",
       " 'LoanTerm',\n",
       " 'DTIRatio',\n",
       " 'loan/income',\n",
       " 'Default',\n",
       " 'independentfeatures']"
      ]
     },
     "execution_count": 74,
     "metadata": {},
     "output_type": "execute_result"
    }
   ],
   "source": [
    "output.columns"
   ]
  },
  {
   "cell_type": "code",
   "execution_count": 75,
   "id": "6691abd1-24e0-4c4f-a4e1-c90c2aab527d",
   "metadata": {},
   "outputs": [
    {
     "name": "stdout",
     "output_type": "stream",
     "text": [
      "+--------------------+-------+\n",
      "| independentfeatures|Default|\n",
      "+--------------------+-------+\n",
      "|[56.0,85994.0,505...|      0|\n",
      "|[69.0,50432.0,124...|      0|\n",
      "|[46.0,84208.0,129...|      1|\n",
      "|[32.0,31713.0,447...|      0|\n",
      "|[60.0,20437.0,913...|      0|\n",
      "+--------------------+-------+\n",
      "only showing top 5 rows\n",
      "\n"
     ]
    }
   ],
   "source": [
    "finalized_df=output.select(\"independentfeatures\",\"Default\")\n",
    "finalized_df.show(5)"
   ]
  },
  {
   "cell_type": "code",
   "execution_count": 76,
   "id": "fa11e634-d7e2-44e8-9e0e-8c9c39fd4e28",
   "metadata": {},
   "outputs": [],
   "source": [
    "from pyspark.ml.classification import GBTClassifier\n",
    "from pyspark.ml.evaluation import MulticlassClassificationEvaluator\n"
   ]
  },
  {
   "cell_type": "code",
   "execution_count": 77,
   "id": "590c3900-4f1f-401d-a62f-9331297468ba",
   "metadata": {},
   "outputs": [],
   "source": [
    "train_data,test_data=finalized_df.randomSplit([0.7,0.3])\n",
    "gbtc=GBTClassifier(featuresCol=\"independentfeatures\",labelCol=\"Default\",maxIter=200)"
   ]
  },
  {
   "cell_type": "code",
   "execution_count": 78,
   "id": "799803e3-8263-40aa-a63b-f15ad1c672e7",
   "metadata": {},
   "outputs": [],
   "source": [
    "model = gbtc.fit(train_data)"
   ]
  },
  {
   "cell_type": "code",
   "execution_count": 79,
   "id": "bfc7ed17-c766-4b6a-ad97-d9180fb401f4",
   "metadata": {},
   "outputs": [
    {
     "name": "stdout",
     "output_type": "stream",
     "text": [
      "+--------------------+-------+\n",
      "| independentfeatures|Default|\n",
      "+--------------------+-------+\n",
      "|[18.0,15452.0,173...|      1|\n",
      "|[18.0,15540.0,906...|      1|\n",
      "|[18.0,15602.0,164...|      0|\n",
      "|[18.0,15620.0,190...|      0|\n",
      "|[18.0,16029.0,327...|      1|\n",
      "|[18.0,16441.0,170...|      0|\n",
      "|[18.0,16594.0,151...|      0|\n",
      "|[18.0,16635.0,735...|      0|\n",
      "|[18.0,17086.0,172...|      1|\n",
      "|[18.0,17864.0,215...|      0|\n",
      "|[18.0,18218.0,183...|      0|\n",
      "|[18.0,18583.0,321...|      0|\n",
      "|[18.0,19354.0,143...|      0|\n",
      "|[18.0,19645.0,932...|      0|\n",
      "|[18.0,19691.0,160...|      1|\n",
      "|[18.0,19736.0,970...|      1|\n",
      "|[18.0,19742.0,181...|      0|\n",
      "|[18.0,19748.0,110...|      0|\n",
      "|[18.0,19963.0,806...|      1|\n",
      "|[18.0,20386.0,234...|      1|\n",
      "+--------------------+-------+\n",
      "only showing top 20 rows\n",
      "\n"
     ]
    }
   ],
   "source": [
    "test_data.show()"
   ]
  },
  {
   "cell_type": "code",
   "execution_count": 80,
   "id": "e15ce22b-883e-4f31-a734-ea2317b082e0",
   "metadata": {},
   "outputs": [],
   "source": [
    "predictions = model.transform(test_data)"
   ]
  },
  {
   "cell_type": "code",
   "execution_count": 81,
   "id": "79fe3b18-d670-4db7-bb70-e2a29d7750ad",
   "metadata": {},
   "outputs": [
    {
     "name": "stdout",
     "output_type": "stream",
     "text": [
      "+--------------------+-------+--------------------+--------------------+----------+\n",
      "| independentfeatures|Default|       rawPrediction|         probability|prediction|\n",
      "+--------------------+-------+--------------------+--------------------+----------+\n",
      "|[18.0,15452.0,173...|      1|[-0.2099264815131...|[0.39655193532697...|       1.0|\n",
      "|[18.0,15540.0,906...|      1|[0.54045173739376...|[0.74666491947420...|       0.0|\n",
      "|[18.0,15602.0,164...|      0|[-0.5194351310750...|[0.26136803640892...|       1.0|\n",
      "|[18.0,15620.0,190...|      0|[-0.3811618770432...|[0.31814196679778...|       1.0|\n",
      "|[18.0,16029.0,327...|      1|[0.33593482767867...|[0.66192167981957...|       0.0|\n",
      "|[18.0,16441.0,170...|      0|[-0.2586690779475...|[0.37347487222812...|       1.0|\n",
      "|[18.0,16594.0,151...|      0|[0.00484651010693...|[0.50242323608064...|       0.0|\n",
      "|[18.0,16635.0,735...|      0|[0.85040035048389...|[0.84563928213379...|       0.0|\n",
      "|[18.0,17086.0,172...|      1|[-0.4356350493670...|[0.29499008961769...|       1.0|\n",
      "|[18.0,17864.0,215...|      0|[-0.0340736762939...|[0.48296975213639...|       1.0|\n",
      "|[18.0,18218.0,183...|      0|[0.03615327939055...|[0.51806876806218...|       0.0|\n",
      "|[18.0,18583.0,321...|      0|[0.78878631905791...|[0.82886046958315...|       0.0|\n",
      "|[18.0,19354.0,143...|      0|[0.09318213925478...|[0.54645668763402...|       0.0|\n",
      "|[18.0,19645.0,932...|      0|[0.87790645863173...|[0.85268448173501...|       0.0|\n",
      "|[18.0,19691.0,160...|      1|[0.41844049152085...|[0.69780790863025...|       0.0|\n",
      "|[18.0,19736.0,970...|      1|[0.35209875343469...|[0.66911775557163...|       0.0|\n",
      "|[18.0,19742.0,181...|      0|[-0.8545980334314...|[0.15326801866207...|       1.0|\n",
      "|[18.0,19748.0,110...|      0|[0.48834951935025...|[0.72645274266934...|       0.0|\n",
      "|[18.0,19963.0,806...|      1|[0.43394771279168...|[0.70430759121929...|       0.0|\n",
      "|[18.0,20386.0,234...|      1|[-0.5299237888496...|[0.25733858387449...|       1.0|\n",
      "+--------------------+-------+--------------------+--------------------+----------+\n",
      "only showing top 20 rows\n",
      "\n"
     ]
    }
   ],
   "source": [
    "predictions.show()"
   ]
  },
  {
   "cell_type": "code",
   "execution_count": 82,
   "id": "050e8814-ccee-4f08-a68b-7b9edb992a3c",
   "metadata": {},
   "outputs": [],
   "source": [
    "evaluator = MulticlassClassificationEvaluator(labelCol=\"Default\", predictionCol=\"prediction\", metricName=\"accuracy\")"
   ]
  },
  {
   "cell_type": "code",
   "execution_count": 83,
   "id": "238e32ff-5c83-44bf-8091-64d316ffe2b6",
   "metadata": {},
   "outputs": [
    {
     "name": "stdout",
     "output_type": "stream",
     "text": [
      "Test Accuracy = 0.8859765971895732\n"
     ]
    }
   ],
   "source": [
    "\n",
    "accuracy = evaluator.evaluate(predictions)\n",
    "print(f\"Test Accuracy = {accuracy}\")\n"
   ]
  },
  {
   "cell_type": "code",
   "execution_count": 75,
   "id": "fd9b66bf-ddfd-40f7-be86-a0c2a35d6087",
   "metadata": {},
   "outputs": [
    {
     "name": "stdout",
     "output_type": "stream",
     "text": [
      "root\n",
      " |-- LoanID: string (nullable = true)\n",
      " |-- Age: integer (nullable = true)\n",
      " |-- Income: integer (nullable = true)\n",
      " |-- LoanAmount: integer (nullable = true)\n",
      " |-- CreditScore: integer (nullable = true)\n",
      " |-- MonthsEmployed: integer (nullable = true)\n",
      " |-- NumCreditLines: integer (nullable = true)\n",
      " |-- InterestRate: double (nullable = true)\n",
      " |-- LoanTerm: integer (nullable = true)\n",
      " |-- DTIRatio: double (nullable = true)\n",
      " |-- Education: string (nullable = true)\n",
      " |-- EmploymentType: string (nullable = true)\n",
      " |-- MaritalStatus: string (nullable = true)\n",
      " |-- HasMortgage: string (nullable = true)\n",
      " |-- HasDependents: string (nullable = true)\n",
      " |-- LoanPurpose: string (nullable = true)\n",
      " |-- HasCoSigner: string (nullable = true)\n",
      " |-- Default: integer (nullable = true)\n",
      " |-- loan/income: double (nullable = true)\n",
      "\n"
     ]
    }
   ],
   "source": [
    "add_col.printSchema()"
   ]
  },
  {
   "cell_type": "code",
   "execution_count": 76,
   "id": "9c0496f5-7a7b-4c2b-affc-bbd9aaaf4700",
   "metadata": {},
   "outputs": [
    {
     "name": "stdout",
     "output_type": "stream",
     "text": [
      "+-------+----------+------------------+-----------------+------------------+------------------+------------------+------------------+------------------+------------------+-------------------+----------+--------------+-------------+-----------+-------------+-----------+-----------+-------------------+-------------------+\n",
      "|summary|    LoanID|               Age|           Income|        LoanAmount|       CreditScore|    MonthsEmployed|    NumCreditLines|      InterestRate|          LoanTerm|           DTIRatio| Education|EmploymentType|MaritalStatus|HasMortgage|HasDependents|LoanPurpose|HasCoSigner|            Default|        loan/income|\n",
      "+-------+----------+------------------+-----------------+------------------+------------------+------------------+------------------+------------------+------------------+-------------------+----------+--------------+-------------+-----------+-------------+-----------+-----------+-------------------+-------------------+\n",
      "|  count|    255347|            255347|           255347|            255347|            255347|            255347|            255347|            255347|            255347|             255347|    255347|        255347|       255347|     255347|       255347|     255347|     255347|             255347|             255347|\n",
      "|   mean|      null|43.498306226429136|82499.30459727351|127578.86551242035| 574.2643461642392|59.541976212761455| 2.501035845339871|13.492773480792833| 36.02589417537703|   0.50021206436731|      null|          null|         null|       null|         null|       null|       null|0.11612824901017048| 2.1774798178207546|\n",
      "| stddev|      null|  14.9902584187096|38963.01372937814| 70840.70614150073|158.90386659497537| 34.64337563735202|1.1170176714339608| 6.636443064944324|16.969330034462878|0.23091661543575903|      null|          null|         null|       null|         null|       null|       null| 0.3203792764304568| 2.1783573308074926|\n",
      "|    min|0003HW9UAA|                18|            15000|              5000|               300|                 0|                 1|               2.0|                12|                0.1|Bachelor's|     Full-time|     Divorced|         No|           No|       Auto|         No|                  0|0.03374928525781171|\n",
      "|    max|ZZZX015LV2|                69|           149999|            249999|               849|               119|                 4|              25.0|                60|                0.9|       PhD|    Unemployed|       Single|        Yes|          Yes|      Other|        Yes|                  1| 16.532459757882133|\n",
      "+-------+----------+------------------+-----------------+------------------+------------------+------------------+------------------+------------------+------------------+-------------------+----------+--------------+-------------+-----------+-------------+-----------+-----------+-------------------+-------------------+\n",
      "\n"
     ]
    }
   ],
   "source": [
    "add_col.describe().show()"
   ]
  },
  {
   "cell_type": "code",
   "execution_count": 77,
   "id": "8a41139e-8fd2-4cb8-8bb3-d2ff40120ab3",
   "metadata": {},
   "outputs": [
    {
     "name": "stdout",
     "output_type": "stream",
     "text": [
      "+-------+------------------+-----------------+------------------+------------------+------------------+------------------+------------------+------------------+-------------------+-------------------+-------------------+\n",
      "|summary|               Age|           Income|        LoanAmount|       CreditScore|    MonthsEmployed|    NumCreditLines|      InterestRate|          LoanTerm|           DTIRatio|        loan/income|            Default|\n",
      "+-------+------------------+-----------------+------------------+------------------+------------------+------------------+------------------+------------------+-------------------+-------------------+-------------------+\n",
      "|  count|            255347|           255347|            255347|            255347|            255347|            255347|            255347|            255347|             255347|             255347|             255347|\n",
      "|   mean|43.498306226429136|82499.30459727351|127578.86551242035| 574.2643461642392|59.541976212761455| 2.501035845339871|13.492773480792833| 36.02589417537703|   0.50021206436731| 2.1774798178207546|0.11612824901017048|\n",
      "| stddev|  14.9902584187096|38963.01372937814| 70840.70614150073|158.90386659497537| 34.64337563735202|1.1170176714339608| 6.636443064944324|16.969330034462878|0.23091661543575903| 2.1783573308074926| 0.3203792764304568|\n",
      "|    min|                18|            15000|              5000|               300|                 0|                 1|               2.0|                12|                0.1|0.03374928525781171|                  0|\n",
      "|    max|                69|           149999|            249999|               849|               119|                 4|              25.0|                60|                0.9| 16.532459757882133|                  1|\n",
      "+-------+------------------+-----------------+------------------+------------------+------------------+------------------+------------------+------------------+-------------------+-------------------+-------------------+\n",
      "\n"
     ]
    }
   ],
   "source": [
    "model_df.describe().show()"
   ]
  },
  {
   "cell_type": "code",
   "execution_count": 78,
   "id": "3652ef84-1849-46e0-954d-b0ffb00bddae",
   "metadata": {},
   "outputs": [
    {
     "name": "stdout",
     "output_type": "stream",
     "text": [
      "LoanID\n",
      "Education\n",
      "EmploymentType\n",
      "MaritalStatus\n",
      "HasMortgage\n",
      "HasDependents\n",
      "LoanPurpose\n",
      "HasCoSigner\n"
     ]
    }
   ],
   "source": [
    "for i in range(0,len(add_col.dtypes)):\n",
    "    if add_col.dtypes[i][1]==\"string\":\n",
    "        print(add_col.dtypes[i][0])"
   ]
  },
  {
   "cell_type": "code",
   "execution_count": 79,
   "id": "1fa7c0d7-af86-48ca-b93b-f37c9c518bd1",
   "metadata": {},
   "outputs": [
    {
     "name": "stdout",
     "output_type": "stream",
     "text": [
      "+-----------+--------------+-------------+-----------+-------------+-----------+-----------+\n",
      "|  Education|EmploymentType|MaritalStatus|HasMortgage|HasDependents|LoanPurpose|HasCoSigner|\n",
      "+-----------+--------------+-------------+-----------+-------------+-----------+-----------+\n",
      "| Bachelor's|     Full-time|     Divorced|        Yes|          Yes|      Other|        Yes|\n",
      "|   Master's|     Full-time|      Married|         No|           No|      Other|        Yes|\n",
      "|   Master's|    Unemployed|     Divorced|        Yes|          Yes|       Auto|         No|\n",
      "|High School|     Full-time|      Married|         No|           No|   Business|         No|\n",
      "| Bachelor's|    Unemployed|     Divorced|         No|          Yes|       Auto|         No|\n",
      "|High School|    Unemployed|       Single|        Yes|           No|   Business|        Yes|\n",
      "| Bachelor's|    Unemployed|       Single|        Yes|           No|       Home|        Yes|\n",
      "|        PhD|     Full-time|      Married|         No|           No|       Home|        Yes|\n",
      "| Bachelor's| Self-employed|     Divorced|        Yes|           No|  Education|         No|\n",
      "|High School| Self-employed|      Married|        Yes|           No|      Other|        Yes|\n",
      "|High School|    Unemployed|      Married|         No|           No|  Education|         No|\n",
      "|        PhD|     Full-time|     Divorced|         No|           No|  Education|        Yes|\n",
      "|   Master's|     Full-time|     Divorced|        Yes|           No|       Auto|        Yes|\n",
      "|High School|    Unemployed|       Single|         No|           No|       Auto|        Yes|\n",
      "|   Master's|     Part-time|     Divorced|         No|           No|       Home|         No|\n",
      "|   Master's|    Unemployed|      Married|        Yes|           No|       Auto|         No|\n",
      "|        PhD|    Unemployed|       Single|        Yes|           No|       Home|         No|\n",
      "|   Master's| Self-employed|       Single|        Yes|           No|      Other|         No|\n",
      "| Bachelor's| Self-employed|     Divorced|        Yes|           No|  Education|         No|\n",
      "|High School| Self-employed|       Single|        Yes|           No|      Other|        Yes|\n",
      "+-----------+--------------+-------------+-----------+-------------+-----------+-----------+\n",
      "only showing top 20 rows\n",
      "\n"
     ]
    }
   ],
   "source": [
    "add_col.select(\"Education\",\n",
    "\"EmploymentType\",\n",
    "\"MaritalStatus\",\n",
    "\"HasMortgage\",\n",
    "\"HasDependents\",\n",
    "\"LoanPurpose\",\n",
    "\"HasCoSigner\").show()"
   ]
  },
  {
   "cell_type": "code",
   "execution_count": 80,
   "id": "3d7b9e5f-5cc5-4ab0-bc43-ead6ecc31cbd",
   "metadata": {},
   "outputs": [],
   "source": [
    "from pyspark.ml.feature import OneHotEncoder\n",
    "from pyspark.ml import Pipeline\n"
   ]
  },
  {
   "cell_type": "code",
   "execution_count": 81,
   "id": "898b0041-9bee-4181-8e88-cc12d3d957dd",
   "metadata": {},
   "outputs": [],
   "source": [
    "from pyspark.sql import SparkSession\n",
    "from pyspark.ml.feature import StringIndexer, OneHotEncoder, VectorAssembler\n",
    "from pyspark.ml import Pipeline"
   ]
  },
  {
   "cell_type": "code",
   "execution_count": 82,
   "id": "bcb20a23-5246-43c4-9493-8525bb871d82",
   "metadata": {},
   "outputs": [],
   "source": [
    "# StringIndexer ve OneHotEncoder\n",
    "indexer = StringIndexer(inputCols=[\"Education\", \"EmploymentType\", \"MaritalStatus\", \"HasMortgage\", \"HasDependents\", \"LoanPurpose\", \"HasCoSigner\"], \n",
    "                        outputCols=[\"Education_index\", \"EmploymentType_index\", \"MaritalStatus_index\", \"HasMortgage_index\", \"HasDependents_index\", \"LoanPurpose_index\", \"HasCoSigner_index\"])\n",
    "\n",
    "encoder = OneHotEncoder(inputCols=[\"Education_index\", \"EmploymentType_index\", \"MaritalStatus_index\", \"HasMortgage_index\", \"HasDependents_index\", \"LoanPurpose_index\", \"HasCoSigner_index\"], \n",
    "                        outputCols=[\"Education_vec\", \"EmploymentType_vec\", \"MaritalStatus_vec\", \"HasMortgage_vec\", \"HasDependents_vec\", \"LoanPurpose_vec\", \"HasCoSigner_vec\"])\n",
    "\n",
    "# Pipeline ile index ve encode işlemlerini birleştirme\n",
    "pipeline = Pipeline(stages=[indexer, encoder])\n",
    "model = pipeline.fit(add_col)\n",
    "data_transformed = model.transform(add_col)\n"
   ]
  },
  {
   "cell_type": "code",
   "execution_count": 83,
   "id": "4eaf2411-fa88-49be-b78b-ad51dacd29d3",
   "metadata": {
    "scrolled": true
   },
   "outputs": [
    {
     "name": "stdout",
     "output_type": "stream",
     "text": [
      "+----------+---+------+----------+-----------+--------------+--------------+------------+--------+--------+----------+--------------+-------------+-----------+-------------+-----------+-----------+-------+-----------------+---------------+--------------------+-------------------+-----------------+-------------------+-----------------+-----------------+-------------+------------------+-----------------+---------------+-----------------+---------------+---------------+\n",
      "|    LoanID|Age|Income|LoanAmount|CreditScore|MonthsEmployed|NumCreditLines|InterestRate|LoanTerm|DTIRatio| Education|EmploymentType|MaritalStatus|HasMortgage|HasDependents|LoanPurpose|HasCoSigner|Default|      loan/income|Education_index|EmploymentType_index|MaritalStatus_index|HasMortgage_index|HasDependents_index|LoanPurpose_index|HasCoSigner_index|Education_vec|EmploymentType_vec|MaritalStatus_vec|HasMortgage_vec|HasDependents_vec|LoanPurpose_vec|HasCoSigner_vec|\n",
      "+----------+---+------+----------+-----------+--------------+--------------+------------+--------+--------+----------+--------------+-------------+-----------+-------------+-----------+-----------+-------+-----------------+---------------+--------------------+-------------------+-----------------+-------------------+-----------------+-----------------+-------------+------------------+-----------------+---------------+-----------------+---------------+---------------+\n",
      "|I38PQUQS96| 56| 85994|     50587|        520|            80|             4|       15.23|      36|    0.44|Bachelor's|     Full-time|     Divorced|        Yes|          Yes|      Other|        Yes|      0|0.588261971765472|            0.0|                 3.0|                1.0|              0.0|                0.0|              3.0|              0.0|(3,[0],[1.0])|         (3,[],[])|    (2,[1],[1.0])|  (1,[0],[1.0])|    (1,[0],[1.0])|  (4,[3],[1.0])|  (1,[0],[1.0])|\n",
      "|HPSK72WA7R| 69| 50432|    124440|        458|            15|             1|        4.81|      60|    0.68|  Master's|     Full-time|      Married|         No|           No|      Other|        Yes|      0|2.467480964467005|            2.0|                 3.0|                0.0|              1.0|                1.0|              3.0|              0.0|(3,[2],[1.0])|         (3,[],[])|    (2,[0],[1.0])|      (1,[],[])|        (1,[],[])|  (4,[3],[1.0])|  (1,[0],[1.0])|\n",
      "|C1OZ6DPJ8Y| 46| 84208|    129188|        451|            26|             3|       21.17|      24|    0.31|  Master's|    Unemployed|     Divorced|        Yes|          Yes|       Auto|         No|      1|1.534153524605738|            2.0|                 1.0|                1.0|              0.0|                0.0|              4.0|              1.0|(3,[2],[1.0])|     (3,[1],[1.0])|    (2,[1],[1.0])|  (1,[0],[1.0])|    (1,[0],[1.0])|      (4,[],[])|      (1,[],[])|\n",
      "+----------+---+------+----------+-----------+--------------+--------------+------------+--------+--------+----------+--------------+-------------+-----------+-------------+-----------+-----------+-------+-----------------+---------------+--------------------+-------------------+-----------------+-------------------+-----------------+-----------------+-------------+------------------+-----------------+---------------+-----------------+---------------+---------------+\n",
      "only showing top 3 rows\n",
      "\n"
     ]
    }
   ],
   "source": [
    "data_transformed.show(3)"
   ]
  },
  {
   "cell_type": "code",
   "execution_count": 84,
   "id": "0c22e1c2-7d58-48a4-92c3-d5a77a1cd188",
   "metadata": {},
   "outputs": [
    {
     "name": "stdout",
     "output_type": "stream",
     "text": [
      "root\n",
      " |-- LoanID: string (nullable = true)\n",
      " |-- Age: integer (nullable = true)\n",
      " |-- Income: integer (nullable = true)\n",
      " |-- LoanAmount: integer (nullable = true)\n",
      " |-- CreditScore: integer (nullable = true)\n",
      " |-- MonthsEmployed: integer (nullable = true)\n",
      " |-- NumCreditLines: integer (nullable = true)\n",
      " |-- InterestRate: double (nullable = true)\n",
      " |-- LoanTerm: integer (nullable = true)\n",
      " |-- DTIRatio: double (nullable = true)\n",
      " |-- Education: string (nullable = true)\n",
      " |-- EmploymentType: string (nullable = true)\n",
      " |-- MaritalStatus: string (nullable = true)\n",
      " |-- HasMortgage: string (nullable = true)\n",
      " |-- HasDependents: string (nullable = true)\n",
      " |-- LoanPurpose: string (nullable = true)\n",
      " |-- HasCoSigner: string (nullable = true)\n",
      " |-- Default: integer (nullable = true)\n",
      " |-- loan/income: double (nullable = true)\n",
      " |-- Education_index: double (nullable = false)\n",
      " |-- EmploymentType_index: double (nullable = false)\n",
      " |-- MaritalStatus_index: double (nullable = false)\n",
      " |-- HasMortgage_index: double (nullable = false)\n",
      " |-- HasDependents_index: double (nullable = false)\n",
      " |-- LoanPurpose_index: double (nullable = false)\n",
      " |-- HasCoSigner_index: double (nullable = false)\n",
      " |-- Education_vec: vector (nullable = true)\n",
      " |-- EmploymentType_vec: vector (nullable = true)\n",
      " |-- MaritalStatus_vec: vector (nullable = true)\n",
      " |-- HasMortgage_vec: vector (nullable = true)\n",
      " |-- HasDependents_vec: vector (nullable = true)\n",
      " |-- LoanPurpose_vec: vector (nullable = true)\n",
      " |-- HasCoSigner_vec: vector (nullable = true)\n",
      "\n"
     ]
    }
   ],
   "source": [
    "data_transformed.printSchema()"
   ]
  },
  {
   "cell_type": "code",
   "execution_count": 85,
   "id": "68aa286a-bdd2-4642-8c00-e5f2637ef75b",
   "metadata": {},
   "outputs": [
    {
     "name": "stdout",
     "output_type": "stream",
     "text": [
      "+-----------+---------------+-------------+\n",
      "|  Education|Education_index|Education_vec|\n",
      "+-----------+---------------+-------------+\n",
      "| Bachelor's|            0.0|(3,[0],[1.0])|\n",
      "|   Master's|            2.0|(3,[2],[1.0])|\n",
      "|   Master's|            2.0|(3,[2],[1.0])|\n",
      "|High School|            1.0|(3,[1],[1.0])|\n",
      "| Bachelor's|            0.0|(3,[0],[1.0])|\n",
      "|High School|            1.0|(3,[1],[1.0])|\n",
      "| Bachelor's|            0.0|(3,[0],[1.0])|\n",
      "|        PhD|            3.0|    (3,[],[])|\n",
      "| Bachelor's|            0.0|(3,[0],[1.0])|\n",
      "|High School|            1.0|(3,[1],[1.0])|\n",
      "|High School|            1.0|(3,[1],[1.0])|\n",
      "|        PhD|            3.0|    (3,[],[])|\n",
      "|   Master's|            2.0|(3,[2],[1.0])|\n",
      "|High School|            1.0|(3,[1],[1.0])|\n",
      "|   Master's|            2.0|(3,[2],[1.0])|\n",
      "|   Master's|            2.0|(3,[2],[1.0])|\n",
      "|        PhD|            3.0|    (3,[],[])|\n",
      "|   Master's|            2.0|(3,[2],[1.0])|\n",
      "| Bachelor's|            0.0|(3,[0],[1.0])|\n",
      "|High School|            1.0|(3,[1],[1.0])|\n",
      "+-----------+---------------+-------------+\n",
      "only showing top 20 rows\n",
      "\n"
     ]
    }
   ],
   "source": [
    "data_transformed.select(\"Education\",\"Education_index\",\"Education_vec\").show()"
   ]
  },
  {
   "cell_type": "code",
   "execution_count": 88,
   "id": "61accb8c-c36a-430c-be97-b835754d3084",
   "metadata": {
    "collapsed": true,
    "jupyter": {
     "outputs_hidden": true
    },
    "scrolled": true
   },
   "outputs": [
    {
     "name": "stdout",
     "output_type": "stream",
     "text": [
      "+----------+---+------+----------+-----------+--------------+--------------+------------+--------+--------+----------+--------------+-------------+-----------+-------------+-----------+-----------+-------+-----------------+-------------+------------------+-----------------+---------------+-----------------+---------------+---------------+\n",
      "|    LoanID|Age|Income|LoanAmount|CreditScore|MonthsEmployed|NumCreditLines|InterestRate|LoanTerm|DTIRatio| Education|EmploymentType|MaritalStatus|HasMortgage|HasDependents|LoanPurpose|HasCoSigner|Default|      loan/income|Education_vec|EmploymentType_vec|MaritalStatus_vec|HasMortgage_vec|HasDependents_vec|LoanPurpose_vec|HasCoSigner_vec|\n",
      "+----------+---+------+----------+-----------+--------------+--------------+------------+--------+--------+----------+--------------+-------------+-----------+-------------+-----------+-----------+-------+-----------------+-------------+------------------+-----------------+---------------+-----------------+---------------+---------------+\n",
      "|I38PQUQS96| 56| 85994|     50587|        520|            80|             4|       15.23|      36|    0.44|Bachelor's|     Full-time|     Divorced|        Yes|          Yes|      Other|        Yes|      0|0.588261971765472|(3,[0],[1.0])|         (3,[],[])|    (2,[1],[1.0])|  (1,[0],[1.0])|    (1,[0],[1.0])|  (4,[3],[1.0])|  (1,[0],[1.0])|\n",
      "|HPSK72WA7R| 69| 50432|    124440|        458|            15|             1|        4.81|      60|    0.68|  Master's|     Full-time|      Married|         No|           No|      Other|        Yes|      0|2.467480964467005|(3,[2],[1.0])|         (3,[],[])|    (2,[0],[1.0])|      (1,[],[])|        (1,[],[])|  (4,[3],[1.0])|  (1,[0],[1.0])|\n",
      "|C1OZ6DPJ8Y| 46| 84208|    129188|        451|            26|             3|       21.17|      24|    0.31|  Master's|    Unemployed|     Divorced|        Yes|          Yes|       Auto|         No|      1|1.534153524605738|(3,[2],[1.0])|     (3,[1],[1.0])|    (2,[1],[1.0])|  (1,[0],[1.0])|    (1,[0],[1.0])|      (4,[],[])|      (1,[],[])|\n",
      "+----------+---+------+----------+-----------+--------------+--------------+------------+--------+--------+----------+--------------+-------------+-----------+-------------+-----------+-----------+-------+-----------------+-------------+------------------+-----------------+---------------+-----------------+---------------+---------------+\n",
      "only showing top 3 rows\n",
      "\n"
     ]
    }
   ],
   "source": [
    "data_transformed.drop(\"Education_index\", \"EmploymentType_index\", \"MaritalStatus_index\", \"HasMortgage_index\", \"HasDependents_index\", \"LoanPurpose_index\", \"HasCoSigner_index\").show(3)"
   ]
  },
  {
   "cell_type": "code",
   "execution_count": 91,
   "id": "8996bacd-e5e4-4c44-aef1-fdd99dc9b6bf",
   "metadata": {},
   "outputs": [
    {
     "name": "stdout",
     "output_type": "stream",
     "text": [
      "root\n",
      " |-- Age: integer (nullable = true)\n",
      " |-- Income: integer (nullable = true)\n",
      " |-- LoanAmount: integer (nullable = true)\n",
      " |-- CreditScore: integer (nullable = true)\n",
      " |-- MonthsEmployed: integer (nullable = true)\n",
      " |-- NumCreditLines: integer (nullable = true)\n",
      " |-- InterestRate: double (nullable = true)\n",
      " |-- LoanTerm: integer (nullable = true)\n",
      " |-- DTIRatio: double (nullable = true)\n",
      " |-- Default: integer (nullable = true)\n",
      " |-- loan/income: double (nullable = true)\n",
      " |-- Education_vec: vector (nullable = true)\n",
      " |-- EmploymentType_vec: vector (nullable = true)\n",
      " |-- MaritalStatus_vec: vector (nullable = true)\n",
      " |-- HasMortgage_vec: vector (nullable = true)\n",
      " |-- HasDependents_vec: vector (nullable = true)\n",
      " |-- LoanPurpose_vec: vector (nullable = true)\n",
      " |-- HasCoSigner_vec: vector (nullable = true)\n",
      "\n"
     ]
    }
   ],
   "source": [
    "data_transformed.drop(\"Education_index\", \"EmploymentType_index\", \"MaritalStatus_index\", \"HasMortgage_index\", \"HasDependents_index\", \"LoanPurpose_index\", \"HasCoSigner_index\",\"Education\",\"EmploymentType\",\"MaritalStatus\",\"HasMortgage\",\"HasDependents\",\"LoanPurpose\",\"HasCoSigner\",\"LoanID\").printSchema()"
   ]
  },
  {
   "cell_type": "code",
   "execution_count": 93,
   "id": "ec026032-a087-436b-93b9-9215f272765c",
   "metadata": {},
   "outputs": [],
   "source": [
    "data_transformed2=data_transformed.drop(\"Education_index\", \"EmploymentType_index\", \"MaritalStatus_index\", \n",
    "                      \"HasMortgage_index\", \"HasDependents_index\", \"LoanPurpose_index\",\n",
    "                      \"HasCoSigner_index\",\"Education\",\"EmploymentType\",\"MaritalStatus\",\n",
    "                      \"HasMortgage\",\"HasDependents\",\"LoanPurpose\",\"HasCoSigner\",\"LoanID\")"
   ]
  },
  {
   "cell_type": "code",
   "execution_count": 95,
   "id": "d324aada-469b-49dd-bab0-65986827df19",
   "metadata": {},
   "outputs": [
    {
     "name": "stdout",
     "output_type": "stream",
     "text": [
      "+---+------+----------+-----------+--------------+--------------+------------+--------+--------+-------+-------------------+-------------+------------------+-----------------+---------------+-----------------+---------------+---------------+\n",
      "|Age|Income|LoanAmount|CreditScore|MonthsEmployed|NumCreditLines|InterestRate|LoanTerm|DTIRatio|Default|        loan/income|Education_vec|EmploymentType_vec|MaritalStatus_vec|HasMortgage_vec|HasDependents_vec|LoanPurpose_vec|HasCoSigner_vec|\n",
      "+---+------+----------+-----------+--------------+--------------+------------+--------+--------+-------+-------------------+-------------+------------------+-----------------+---------------+-----------------+---------------+---------------+\n",
      "| 56| 85994|     50587|        520|            80|             4|       15.23|      36|    0.44|      0|  0.588261971765472|(3,[0],[1.0])|         (3,[],[])|    (2,[1],[1.0])|  (1,[0],[1.0])|    (1,[0],[1.0])|  (4,[3],[1.0])|  (1,[0],[1.0])|\n",
      "| 69| 50432|    124440|        458|            15|             1|        4.81|      60|    0.68|      0|  2.467480964467005|(3,[2],[1.0])|         (3,[],[])|    (2,[0],[1.0])|      (1,[],[])|        (1,[],[])|  (4,[3],[1.0])|  (1,[0],[1.0])|\n",
      "| 46| 84208|    129188|        451|            26|             3|       21.17|      24|    0.31|      1|  1.534153524605738|(3,[2],[1.0])|     (3,[1],[1.0])|    (2,[1],[1.0])|  (1,[0],[1.0])|    (1,[0],[1.0])|      (4,[],[])|      (1,[],[])|\n",
      "| 32| 31713|     44799|        743|             0|             3|        7.07|      24|    0.23|      0| 1.4126383502033866|(3,[1],[1.0])|         (3,[],[])|    (2,[0],[1.0])|      (1,[],[])|        (1,[],[])|  (4,[0],[1.0])|      (1,[],[])|\n",
      "| 60| 20437|      9139|        633|             8|             4|        6.51|      48|    0.73|      0|0.44717913588100017|(3,[0],[1.0])|     (3,[1],[1.0])|    (2,[1],[1.0])|      (1,[],[])|    (1,[0],[1.0])|      (4,[],[])|      (1,[],[])|\n",
      "+---+------+----------+-----------+--------------+--------------+------------+--------+--------+-------+-------------------+-------------+------------------+-----------------+---------------+-----------------+---------------+---------------+\n",
      "only showing top 5 rows\n",
      "\n"
     ]
    }
   ],
   "source": [
    "data_transformed2.show(5)"
   ]
  },
  {
   "cell_type": "code",
   "execution_count": 124,
   "id": "3af5f3c8-bb44-4ed7-9416-b7056e9aa464",
   "metadata": {},
   "outputs": [
    {
     "name": "stdout",
     "output_type": "stream",
     "text": [
      "Age\n",
      "Income\n",
      "LoanAmount\n",
      "CreditScore\n",
      "MonthsEmployed\n",
      "NumCreditLines\n",
      "InterestRate\n",
      "LoanTerm\n",
      "DTIRatio\n",
      "Default\n",
      "loan/income\n"
     ]
    }
   ],
   "source": [
    "for i in range(0,len(data_transformed2.dtypes)):\n",
    "    if data_transformed2.dtypes[i][1]!=\"vector\":\n",
    "        print(data_transformed2.dtypes[i][0])"
   ]
  },
  {
   "cell_type": "code",
   "execution_count": null,
   "id": "2d10da7a-eb00-4458-baf7-b44696b49f38",
   "metadata": {},
   "outputs": [],
   "source": [
    "[\"Age\",\n",
    "\"Income\",\n",
    "\"LoanAmount\",\n",
    "\"CreditScore\",\n",
    "\"MonthsEmployed\",\n",
    "\"NumCreditLines\",\n",
    "\"InterestRate\",\n",
    "\"LoanTerm\",\n",
    "\"DTIRatio\",\n",
    "\"loan/income\"]"
   ]
  },
  {
   "cell_type": "code",
   "execution_count": 125,
   "id": "20606c62-e3c0-4597-87cc-9d70f4860f86",
   "metadata": {},
   "outputs": [],
   "source": [
    "from pyspark.ml.feature import StringIndexer, OneHotEncoder, VectorAssembler, StandardScaler\n",
    "from pyspark.ml import Pipeline"
   ]
  },
  {
   "cell_type": "code",
   "execution_count": 145,
   "id": "d83a9cb3-ab89-4758-b006-0e1b60ef71ae",
   "metadata": {},
   "outputs": [
    {
     "name": "stdout",
     "output_type": "stream",
     "text": [
      "+---+------+----------+-----------+--------------+--------------+------------+--------+--------+-------+-----------------+-------------+------------------+-----------------+---------------+-----------------+---------------+---------------+--------------------+-----------------------+\n",
      "|Age|Income|LoanAmount|CreditScore|MonthsEmployed|NumCreditLines|InterestRate|LoanTerm|DTIRatio|Default|      loan/income|Education_vec|EmploymentType_vec|MaritalStatus_vec|HasMortgage_vec|HasDependents_vec|LoanPurpose_vec|HasCoSigner_vec|    numeric_features|scaled_numeric_features|\n",
      "+---+------+----------+-----------+--------------+--------------+------------+--------+--------+-------+-----------------+-------------+------------------+-----------------+---------------+-----------------+---------------+---------------+--------------------+-----------------------+\n",
      "| 56| 85994|     50587|        520|            80|             4|       15.23|      36|    0.44|      0|0.588261971765472|(3,[0],[1.0])|         (3,[],[])|    (2,[1],[1.0])|  (1,[0],[1.0])|    (1,[0],[1.0])|  (4,[3],[1.0])|  (1,[0],[1.0])|[56.0,85994.0,505...|   [0.83398787561709...|\n",
      "| 69| 50432|    124440|        458|            15|             1|        4.81|      60|    0.68|      0|2.467480964467005|(3,[2],[1.0])|         (3,[],[])|    (2,[0],[1.0])|      (1,[],[])|        (1,[],[])|  (4,[3],[1.0])|  (1,[0],[1.0])|[69.0,50432.0,124...|   [1.70121775497490...|\n",
      "| 46| 84208|    129188|        451|            26|             3|       21.17|      24|    0.31|      1|1.534153524605738|(3,[2],[1.0])|     (3,[1],[1.0])|    (2,[1],[1.0])|  (1,[0],[1.0])|    (1,[0],[1.0])|      (4,[],[])|      (1,[],[])|[46.0,84208.0,129...|   [0.16688796841877...|\n",
      "+---+------+----------+-----------+--------------+--------------+------------+--------+--------+-------+-----------------+-------------+------------------+-----------------+---------------+-----------------+---------------+---------------+--------------------+-----------------------+\n",
      "only showing top 3 rows\n",
      "\n"
     ]
    }
   ],
   "source": [
    "# VectorAssembler ile sayısal sütunları birleştirme\n",
    "numeric_assembler = VectorAssembler(inputCols=[\"Age\",\"Income\",\"LoanAmount\",\"CreditScore\",\"MonthsEmployed\",\"NumCreditLines\",\"InterestRate\",\"LoanTerm\",\"DTIRatio\",\"loan/income\"], \n",
    "                                    outputCol=\"numeric_features\")\n",
    "data_numeric_assembled = numeric_assembler.transform(data_transformed2)\n",
    "\n",
    "# StandardScaler ile ölçekleme\n",
    "scaler = StandardScaler(inputCol=\"numeric_features\", outputCol=\"scaled_numeric_features\", withMean=True, withStd=True)\n",
    "scaler_model = scaler.fit(data_numeric_assembled)\n",
    "data_scaled = scaler_model.transform(data_numeric_assembled)\n",
    "\n",
    "data_scaled.show(3)"
   ]
  },
  {
   "cell_type": "code",
   "execution_count": 146,
   "id": "60580844-8f16-446b-b3c9-4ff2af4252f3",
   "metadata": {},
   "outputs": [
    {
     "name": "stdout",
     "output_type": "stream",
     "text": [
      "root\n",
      " |-- Age: integer (nullable = true)\n",
      " |-- Income: integer (nullable = true)\n",
      " |-- LoanAmount: integer (nullable = true)\n",
      " |-- CreditScore: integer (nullable = true)\n",
      " |-- MonthsEmployed: integer (nullable = true)\n",
      " |-- NumCreditLines: integer (nullable = true)\n",
      " |-- InterestRate: double (nullable = true)\n",
      " |-- LoanTerm: integer (nullable = true)\n",
      " |-- DTIRatio: double (nullable = true)\n",
      " |-- Default: integer (nullable = true)\n",
      " |-- loan/income: double (nullable = true)\n",
      " |-- Education_vec: vector (nullable = true)\n",
      " |-- EmploymentType_vec: vector (nullable = true)\n",
      " |-- MaritalStatus_vec: vector (nullable = true)\n",
      " |-- HasMortgage_vec: vector (nullable = true)\n",
      " |-- HasDependents_vec: vector (nullable = true)\n",
      " |-- LoanPurpose_vec: vector (nullable = true)\n",
      " |-- HasCoSigner_vec: vector (nullable = true)\n",
      " |-- numeric_features: vector (nullable = true)\n",
      " |-- scaled_numeric_features: vector (nullable = true)\n",
      "\n"
     ]
    }
   ],
   "source": [
    "data_scaled.printSchema()"
   ]
  },
  {
   "cell_type": "code",
   "execution_count": 147,
   "id": "bd185069-453a-438f-850a-cabe9350649c",
   "metadata": {},
   "outputs": [],
   "source": [
    "# VectorAssembler ile tüm öznitelikleri birleştirme\n",
    "assembler = VectorAssembler(\n",
    "    inputCols=[\"scaled_numeric_features\", \"Education_vec\", \"EmploymentType_vec\", \"MaritalStatus_vec\", \"HasMortgage_vec\", \"HasDependents_vec\", \"LoanPurpose_vec\", \"HasCoSigner_vec\"],\n",
    "    outputCol=\"final_features\"\n",
    ")\n",
    "data_final = assembler.transform(data_scaled)\n"
   ]
  },
  {
   "cell_type": "code",
   "execution_count": 149,
   "id": "b294cbb4-5260-4a98-b0be-b94eee9d3383",
   "metadata": {},
   "outputs": [
    {
     "name": "stdout",
     "output_type": "stream",
     "text": [
      "+--------------------+\n",
      "|      final_features|\n",
      "+--------------------+\n",
      "|[0.83398787561709...|\n",
      "|(25,[0,1,2,3,4,5,...|\n",
      "|(25,[0,1,2,3,4,5,...|\n",
      "|(25,[0,1,2,3,4,5,...|\n",
      "|(25,[0,1,2,3,4,5,...|\n",
      "|(25,[0,1,2,3,4,5,...|\n",
      "|(25,[0,1,2,3,4,5,...|\n",
      "|(25,[0,1,2,3,4,5,...|\n",
      "|(25,[0,1,2,3,4,5,...|\n",
      "|[-0.2333719759002...|\n",
      "|(25,[0,1,2,3,4,5,...|\n",
      "|(25,[0,1,2,3,4,5,...|\n",
      "|(25,[0,1,2,3,4,5,...|\n",
      "|(25,[0,1,2,3,4,5,...|\n",
      "|(25,[0,1,2,3,4,5,...|\n",
      "|(25,[0,1,2,3,4,5,...|\n",
      "|(25,[0,1,2,3,4,5,...|\n",
      "|(25,[0,1,2,3,4,5,...|\n",
      "|(25,[0,1,2,3,4,5,...|\n",
      "|(25,[0,1,2,3,4,5,...|\n",
      "+--------------------+\n",
      "only showing top 20 rows\n",
      "\n"
     ]
    }
   ],
   "source": [
    "# Sonuçları gösterme\n",
    "data_final.select(\"final_features\").show(truncate=True)"
   ]
  },
  {
   "cell_type": "code",
   "execution_count": 150,
   "id": "e7545904-42f5-4efd-b641-1c6f2f6861bd",
   "metadata": {},
   "outputs": [
    {
     "name": "stdout",
     "output_type": "stream",
     "text": [
      "+---+------+----------+-----------+--------------+--------------+------------+--------+--------+-------+-------------------+-------------+------------------+-----------------+---------------+-----------------+---------------+---------------+--------------------+-----------------------+--------------------+\n",
      "|Age|Income|LoanAmount|CreditScore|MonthsEmployed|NumCreditLines|InterestRate|LoanTerm|DTIRatio|Default|        loan/income|Education_vec|EmploymentType_vec|MaritalStatus_vec|HasMortgage_vec|HasDependents_vec|LoanPurpose_vec|HasCoSigner_vec|    numeric_features|scaled_numeric_features|      final_features|\n",
      "+---+------+----------+-----------+--------------+--------------+------------+--------+--------+-------+-------------------+-------------+------------------+-----------------+---------------+-----------------+---------------+---------------+--------------------+-----------------------+--------------------+\n",
      "| 56| 85994|     50587|        520|            80|             4|       15.23|      36|    0.44|      0|  0.588261971765472|(3,[0],[1.0])|         (3,[],[])|    (2,[1],[1.0])|  (1,[0],[1.0])|    (1,[0],[1.0])|  (4,[3],[1.0])|  (1,[0],[1.0])|[56.0,85994.0,505...|   [0.83398787561709...|[0.83398787561709...|\n",
      "| 69| 50432|    124440|        458|            15|             1|        4.81|      60|    0.68|      0|  2.467480964467005|(3,[2],[1.0])|         (3,[],[])|    (2,[0],[1.0])|      (1,[],[])|        (1,[],[])|  (4,[3],[1.0])|  (1,[0],[1.0])|[69.0,50432.0,124...|   [1.70121775497490...|(25,[0,1,2,3,4,5,...|\n",
      "| 46| 84208|    129188|        451|            26|             3|       21.17|      24|    0.31|      1|  1.534153524605738|(3,[2],[1.0])|     (3,[1],[1.0])|    (2,[1],[1.0])|  (1,[0],[1.0])|    (1,[0],[1.0])|      (4,[],[])|      (1,[],[])|[46.0,84208.0,129...|   [0.16688796841877...|(25,[0,1,2,3,4,5,...|\n",
      "| 32| 31713|     44799|        743|             0|             3|        7.07|      24|    0.23|      0| 1.4126383502033866|(3,[1],[1.0])|         (3,[],[])|    (2,[0],[1.0])|      (1,[],[])|        (1,[],[])|  (4,[0],[1.0])|      (1,[],[])|[32.0,31713.0,447...|   [-0.7670519016588...|(25,[0,1,2,3,4,5,...|\n",
      "| 60| 20437|      9139|        633|             8|             4|        6.51|      48|    0.73|      0|0.44717913588100017|(3,[0],[1.0])|     (3,[1],[1.0])|    (2,[1],[1.0])|      (1,[],[])|    (1,[0],[1.0])|      (4,[],[])|      (1,[],[])|[60.0,20437.0,913...|   [1.10082783849641...|(25,[0,1,2,3,4,5,...|\n",
      "+---+------+----------+-----------+--------------+--------------+------------+--------+--------+-------+-------------------+-------------+------------------+-----------------+---------------+-----------------+---------------+---------------+--------------------+-----------------------+--------------------+\n",
      "only showing top 5 rows\n",
      "\n"
     ]
    }
   ],
   "source": [
    "data_final.show(5)"
   ]
  },
  {
   "cell_type": "code",
   "execution_count": 151,
   "id": "2f62def1-e30e-4ad1-b6e5-036ae7b01198",
   "metadata": {},
   "outputs": [
    {
     "name": "stdout",
     "output_type": "stream",
     "text": [
      "root\n",
      " |-- Age: integer (nullable = true)\n",
      " |-- Income: integer (nullable = true)\n",
      " |-- LoanAmount: integer (nullable = true)\n",
      " |-- CreditScore: integer (nullable = true)\n",
      " |-- MonthsEmployed: integer (nullable = true)\n",
      " |-- NumCreditLines: integer (nullable = true)\n",
      " |-- InterestRate: double (nullable = true)\n",
      " |-- LoanTerm: integer (nullable = true)\n",
      " |-- DTIRatio: double (nullable = true)\n",
      " |-- Default: integer (nullable = true)\n",
      " |-- loan/income: double (nullable = true)\n",
      " |-- Education_vec: vector (nullable = true)\n",
      " |-- EmploymentType_vec: vector (nullable = true)\n",
      " |-- MaritalStatus_vec: vector (nullable = true)\n",
      " |-- HasMortgage_vec: vector (nullable = true)\n",
      " |-- HasDependents_vec: vector (nullable = true)\n",
      " |-- LoanPurpose_vec: vector (nullable = true)\n",
      " |-- HasCoSigner_vec: vector (nullable = true)\n",
      " |-- numeric_features: vector (nullable = true)\n",
      " |-- scaled_numeric_features: vector (nullable = true)\n",
      " |-- final_features: vector (nullable = true)\n",
      "\n"
     ]
    }
   ],
   "source": [
    "data_final.printSchema()"
   ]
  },
  {
   "cell_type": "code",
   "execution_count": 152,
   "id": "8cf3171b-c20b-4c4b-aab2-18abc0ff83c0",
   "metadata": {},
   "outputs": [
    {
     "name": "stdout",
     "output_type": "stream",
     "text": [
      "+--------------------+-------+\n",
      "|      final_features|Default|\n",
      "+--------------------+-------+\n",
      "|[0.83398787561709...|      0|\n",
      "|(25,[0,1,2,3,4,5,...|      0|\n",
      "|(25,[0,1,2,3,4,5,...|      1|\n",
      "|(25,[0,1,2,3,4,5,...|      0|\n",
      "|(25,[0,1,2,3,4,5,...|      0|\n",
      "+--------------------+-------+\n",
      "only showing top 5 rows\n",
      "\n"
     ]
    }
   ],
   "source": [
    "data_final.select(\"final_features\",\"Default\").show(5)"
   ]
  },
  {
   "cell_type": "code",
   "execution_count": 153,
   "id": "05a25db9-591e-452c-81da-e2509433dbeb",
   "metadata": {},
   "outputs": [],
   "source": [
    "data_final2=data_final.select(\"final_features\",\"Default\")"
   ]
  },
  {
   "cell_type": "code",
   "execution_count": 154,
   "id": "4a37bdbe-a970-480d-af5d-ffdf6436e5f9",
   "metadata": {},
   "outputs": [
    {
     "name": "stdout",
     "output_type": "stream",
     "text": [
      "root\n",
      " |-- final_features: vector (nullable = true)\n",
      " |-- Default: integer (nullable = true)\n",
      "\n"
     ]
    }
   ],
   "source": [
    "data_final2.printSchema()"
   ]
  },
  {
   "cell_type": "code",
   "execution_count": 155,
   "id": "8eaad1d7-7432-4645-b5b9-e8cfb502129e",
   "metadata": {},
   "outputs": [],
   "source": [
    "from pyspark.sql import SparkSession\n",
    "from pyspark.ml.classification import LogisticRegression\n",
    "from pyspark.ml.evaluation import BinaryClassificationEvaluator\n",
    "from pyspark.ml.feature import VectorAssembler, StandardScaler, StringIndexer, OneHotEncoder\n",
    "from pyspark.ml import Pipeline\n"
   ]
  },
  {
   "cell_type": "code",
   "execution_count": 156,
   "id": "166de7aa-e127-444a-82be-f0ce0ba5ff61",
   "metadata": {},
   "outputs": [],
   "source": [
    "\n",
    "# Veriyi eğitim ve test setlerine ayırma\n",
    "(training_data, test_data) = data_final2.randomSplit([0.7, 0.3], seed=1234)\n"
   ]
  },
  {
   "cell_type": "code",
   "execution_count": 157,
   "id": "a85e77ea-7605-458a-82cc-b10e781471d1",
   "metadata": {},
   "outputs": [],
   "source": [
    "# Lojistik Regresyon modelini tanımlama\n",
    "lr = LogisticRegression(featuresCol=\"final_features\", labelCol=\"Default\")\n",
    "\n",
    "# Modeli eğitme\n",
    "lr_model = lr.fit(training_data)\n"
   ]
  },
  {
   "cell_type": "code",
   "execution_count": 158,
   "id": "60b5ba97-4efe-4ea3-9957-2a7b6da8948d",
   "metadata": {
    "scrolled": true
   },
   "outputs": [
    {
     "name": "stdout",
     "output_type": "stream",
     "text": [
      "ROC AUC: 0.7569113665120186\n",
      "+--------------------------------------------------------------------------------------------------------------------------------------------------------------------------------------------------------------------------------------------+------------------------------------------+-----------------------------------------+----------+\n",
      "|final_features                                                                                                                                                                                                                              |rawPrediction                             |probability                              |prediction|\n",
      "+--------------------------------------------------------------------------------------------------------------------------------------------------------------------------------------------------------------------------------------------+------------------------------------------+-----------------------------------------+----------+\n",
      "|(25,[0,1,2,3,4,5,6,7,8,9],[-1.7009917717365226,-1.7164818168787148,0.8936547634226958,0.5835959553591674,-0.6218209344915901,0.4466931611024537,1.61038472184901,-0.7086840877603067,-0.08752970993086527,4.610416590893878])               |[-1.723269575089713,1.723269575089713]    |[0.15145050093037316,0.8485494990696268] |1.0       |\n",
      "|(25,[0,1,2,3,4,5,6,7,8,9],[-1.5675717902968587,-1.4118595902091498,0.2465550590742535,-0.5176988321745527,0.7925908859075924,-0.4485478235063748,1.4084693302926081,-0.0015259397586298163,-1.603228350063454,1.4226290445583267])          |[0.4371316451928986,-0.4371316451928986]  |[0.607575347381716,0.39242465261828396]  |0.0       |\n",
      "|(25,[0,1,2,3,4,5,6,7,8,9],[-1.100601855258035,0.7601489866374208,-0.4397735032481492,0.7535100082929413,1.485364022429641,1.3419341457112823,0.34163278386027646,-0.7086840877603067,-1.6465340254958138,-0.6047863373269045])              |[2.371526656057358,-2.371526656057358]    |[0.9146301401702143,0.08536985982978573] |0.0       |\n",
      "|(25,[0,1,2,3,4,5,6,7,8,9],[0.2335979591386037,-0.40367269088874774,0.3022998450185392,0.33816454556593833,-1.718711733984834,-0.4485478235063748,-0.324386642019795,1.412790356244724,-1.6465340254958138,0.024760865681102754])            |[2.207239239257004,-2.207239239257004]    |[0.9008977159413026,0.09910228405869737] |0.0       |\n",
      "|(25,[0,1,2,3,4,5,6,7,8,9],[1.100827838496419,-0.22149992444670777,-1.0735757681538167,0.07385379655784549,1.081246359458446,-1.3437888081152032,-0.00795207316274753,0.7056322082430471,0.6053610969868898,-0.6793870221486592])            |[3.7924427547533117,-3.7924427547533117]  |[0.9779563995002623,0.022043600499737748]|0.0       |\n",
      "|(25,[0,1,2,3,4,5,6,7,8,9],[1.100827838496419,1.2254107378435775,0.5209029736924332,1.4394593330996586,-0.18883772416530978,-0.4485478235063748,-0.7493130630564018,-0.7086840877603067,-1.5166169991987346,-0.4198709842804882])            |[3.797743227089887,-3.797743227089887]    |[0.9780703763724307,0.02192962362756934] |0.0       |\n",
      "|(25,[0,1,2,3,4,5,6,7,8,9],[1.1675378292162508,-0.5066164731089537,0.27866936346099697,-0.6246817543921142,0.27301103351605593,-1.3437888081152032,1.3481960790817422,-1.4158422357619835,-1.213477271172217,0.07798315866892455])           |[2.605565305734319,-2.605565305734319]    |[0.9312188955465098,0.06878110445349017] |0.0       |\n",
      "|(25,[0,1,2,3,4,5,6,7,8,9],[1.5010877828154106,0.5591378416988385,-1.2091193069325026,0.5584235030726824,0.1575488440957145,1.3419341457112823,0.2331409316807172,-0.7086840877603067,-9.183590661458297E-4,-0.8150481467335454])            |[3.5049157136459343,-3.5049157136459343]  |[0.9708273130137404,0.029172686986259633]|0.0       |\n",
      "|(25,[0,1,2,3,4,5,6,7,8,9],[1.5010877828154106,1.053452786989581,-1.6134772186504218,-0.0457153518029584,-0.852745313332273,-1.3437888081152032,1.3150457909157653,-1.4158422357619835,-0.17414106079558447,-0.950255812131046])             |[2.930238517629938,-2.930238517629938]    |[0.9493211515017421,0.05067884849825788] |0.0       |\n",
      "|(25,[0,1,2,3,4,5,6,7,8,9],[1.5677977735352426,-1.2464463076339247,-0.7321054283229051,-0.9078718426150707,-0.18883772416530978,-0.4485478235063748,1.4958655445483644,-1.4158422357619835,-1.0402545694427783,0.02469413603886948])         |[2.5148003231437115,-2.5148003231437115]  |[0.9251728863628158,0.0748271136371842]  |0.0       |\n",
      "|(25,[0,1,2,3,4,5,6,7,8,9],[1.7012177549749063,1.109762599552815,0.6129828011714343,-0.21562940473673237,-0.5352242924263341,-0.4485478235063748,-1.0386246688685594,-0.7086840877603067,-1.603228350063454,-0.3752809653138729])            |[3.948390957511296,-3.948390957511296]    |[0.9810791928215344,0.01892080717846556] |0.0       |\n",
      "|(25,[0,1,2,3,4,5,6,7,8,9,10],[-1.4341518088571947,0.08686944562952642,-0.7173963711048891,1.282131506309127,-0.7372831239119316,0.4466931611024537,-1.5147833534344024,1.412790356244724,-1.083560244875138,-0.5893153550363838,1.0])       |[2.2003953178448272,-2.2003953178448272]  |[0.9002850049363189,0.09971499506368109] |0.0       |\n",
      "|(25,[0,1,2,3,4,5,6,7,8,9,10],[-0.7670519016588754,-1.4715572310578657,1.5425189899901899,-0.9078718426150707,-1.2857285236585534,1.3419341457112823,-0.809586314267268,-0.0015259397586298163,-1.6898397009281736,3.3214152775971275,1.0])  |[-0.03991170163975788,0.03991170163975788]|[0.49002339890207997,0.5099766010979201] |1.0       |\n",
      "|(25,[0,1,2,3,4,5,6,7,8,9,10],[-0.5669219294993796,1.5962239429090317,0.43902914272842797,-0.2093362916651111,0.47506986500165344,1.3419341457112823,-0.16164886375045626,-0.0015259397586298163,1.1683348776075657,-0.4961596826915499,1.0])|[2.038305094654609,-2.038305094654609]    |[0.8847605692483163,0.11523943075168375] |0.0       |\n",
      "|(25,[0,1,2,3,4,5,6,7,8,9,10],[-0.23337197590021988,0.15855281230642382,1.5559434750327361,-1.1721825916231636,-1.2857285236585534,-0.4485478235063748,1.5501114706381438,0.7056322082430471,0.47544407068981065,0.231457149238077,1.0])     |[0.5937087815428264,-0.5937087815428264]  |[0.6442156591961526,0.35578434080384735] |0.0       |\n",
      "|(25,[0,1,2,3,4,5,6,7,8,9,10],[0.43372793129809956,0.762664192485733,-0.7610153603598505,0.8793722697253665,1.5142295697847263,-0.4485478235063748,-0.5157542146142952,-0.0015259397586298163,-1.603228350063454,-0.6982279822578885,1.0])   |[3.764010100723598,-3.764010100723598]    |[0.9773350554990983,0.02266494450090173] |0.0       |\n",
      "|(25,[0,1,2,3,4,5,6,7,8,9,10],[0.5004379220179315,-0.16506178505447813,1.6250421651308062,-1.1281308001218147,-0.8238797659771877,1.3419341457112823,0.609848751748631,-1.4158422357619835,1.3415575793370047,0.4650569541421456,1.0])       |[1.3045383559393153,-1.3045383559393153]  |[0.7865977900769512,0.2134022099230488]  |0.0       |\n",
      "|(25,[0,1,2,3,4,5,6,7,8,9,10],[0.8339878756170912,0.25130744430438556,-0.740066952575267,-0.8323544857556157,-1.6321150919195777,0.4466931611024537,-1.7317670577935207,1.412790356244724,1.298251903904645,-0.6257861740090416,1.0])        |[2.9538696535974243,-2.9538696535974243]  |[0.9504460607354043,0.049553939264595726]|0.0       |\n",
      "|(25,[0,1,2,3,4,5,6,7,8,9,10],[1.4343777920955787,-0.0452558575042608,-0.2616838047236853,-0.5932161890340079,1.398767380364385,1.3419341457112823,-0.09082779357768839,-0.7086840877603067,0.5620554215545301,-0.3795946181254911,1.0])     |[3.473531743211827,-3.473531743211827]    |[0.9699252116648217,0.030074788335178293]|0.0       |\n",
      "|(25,[0,1,2,3,4,5,6,7,8,9,10],[1.5010877828154106,-0.7541332608755124,1.0736077974104783,0.12419870113081556,0.2441454861609706,-1.3437888081152032,0.29642784545212697,1.412790356244724,0.7785837987163287,0.7603345103440253,1.0])        |[2.7425923470987956,-2.7425923470987956]  |[0.9394936275682108,0.060506372431789246]|0.0       |\n",
      "+--------------------------------------------------------------------------------------------------------------------------------------------------------------------------------------------------------------------------------------------+------------------------------------------+-----------------------------------------+----------+\n",
      "only showing top 20 rows\n",
      "\n"
     ]
    }
   ],
   "source": [
    "# Tahmin yapma\n",
    "predictions = lr_model.transform(test_data)\n",
    "\n",
    "# Modeli değerlendirme\n",
    "evaluator = BinaryClassificationEvaluator(labelCol=\"Default\", rawPredictionCol=\"rawPrediction\", metricName=\"areaUnderROC\")\n",
    "roc_auc = evaluator.evaluate(predictions)\n",
    "\n",
    "print(f\"ROC AUC: {roc_auc}\")\n",
    "\n",
    "# Sonuçları gösterme\n",
    "predictions.select(\"final_features\", \"rawPrediction\", \"probability\", \"prediction\").show(truncate=False)\n"
   ]
  },
  {
   "cell_type": "code",
   "execution_count": 159,
   "id": "bded2df3-4b01-46b3-a74d-6775ec585046",
   "metadata": {},
   "outputs": [],
   "source": [
    "from pyspark.sql import SparkSession\n",
    "from pyspark.ml.classification import RandomForestClassifier\n",
    "from pyspark.ml.evaluation import BinaryClassificationEvaluator\n",
    "from pyspark.ml.feature import VectorAssembler, StandardScaler, StringIndexer, OneHotEncoder\n",
    "from pyspark.ml import Pipeline\n"
   ]
  },
  {
   "cell_type": "code",
   "execution_count": 160,
   "id": "33562da2-ec72-4676-88a8-01f738fe4f02",
   "metadata": {},
   "outputs": [],
   "source": [
    "# final_features ve Default sütunlarını seçme\n",
    "data_final2 = data_final.select(\"final_features\", \"Default\")\n",
    "\n",
    "# Veriyi eğitim ve test setlerine ayırma\n",
    "(training_data, test_data) = data_final2.randomSplit([0.7, 0.3], seed=1234)\n"
   ]
  },
  {
   "cell_type": "code",
   "execution_count": 161,
   "id": "793b7fd0-e24f-4969-920e-4fc0c5abe3ec",
   "metadata": {},
   "outputs": [],
   "source": [
    "# Rastgele Orman modelini tanımlama\n",
    "rf = RandomForestClassifier(featuresCol=\"final_features\", labelCol=\"Default\", numTrees=100)\n",
    "\n",
    "# Modeli eğitme\n",
    "rf_model = rf.fit(training_data)\n"
   ]
  },
  {
   "cell_type": "code",
   "execution_count": 162,
   "id": "08e4db9e-8509-4286-b7c0-9aa353019cfe",
   "metadata": {},
   "outputs": [
    {
     "name": "stdout",
     "output_type": "stream",
     "text": [
      "ROC AUC: 0.7075342117826989\n"
     ]
    }
   ],
   "source": [
    "# Tahmin yapma\n",
    "predictions = rf_model.transform(test_data)\n",
    "\n",
    "# Modeli değerlendirme\n",
    "evaluator = BinaryClassificationEvaluator(labelCol=\"Default\", rawPredictionCol=\"rawPrediction\", metricName=\"areaUnderROC\")\n",
    "roc_auc = evaluator.evaluate(predictions)\n",
    "\n",
    "print(f\"ROC AUC: {roc_auc}\")\n",
    "\n",
    "\n"
   ]
  },
  {
   "cell_type": "code",
   "execution_count": 164,
   "id": "fc302cc2-be98-4436-8b69-af6019879b0c",
   "metadata": {},
   "outputs": [
    {
     "name": "stdout",
     "output_type": "stream",
     "text": [
      "+--------------------+--------------------+--------------------+----------+\n",
      "|      final_features|       rawPrediction|         probability|prediction|\n",
      "+--------------------+--------------------+--------------------+----------+\n",
      "|(25,[0,1,2,3,4,5,...|[68.5273419498496...|[0.68527341949849...|       0.0|\n",
      "|(25,[0,1,2,3,4,5,...|[80.9205276999109...|[0.80920527699910...|       0.0|\n",
      "|(25,[0,1,2,3,4,5,...|[88.7189395023582...|[0.88718939502358...|       0.0|\n",
      "|(25,[0,1,2,3,4,5,...|[89.5010983051697...|[0.89501098305169...|       0.0|\n",
      "|(25,[0,1,2,3,4,5,...|[89.6981326282202...|[0.89698132628220...|       0.0|\n",
      "+--------------------+--------------------+--------------------+----------+\n",
      "only showing top 5 rows\n",
      "\n"
     ]
    }
   ],
   "source": [
    "# Sonuçları gösterme\n",
    "predictions.select(\"final_features\", \"rawPrediction\", \"probability\", \"prediction\").show(5)"
   ]
  },
  {
   "cell_type": "code",
   "execution_count": 165,
   "id": "28ffead0-55b8-42d9-b8f3-7c8f7656a79a",
   "metadata": {},
   "outputs": [],
   "source": [
    "from pyspark.sql import SparkSession\n",
    "from pyspark.ml.classification import GBTClassifier\n",
    "from pyspark.ml.evaluation import BinaryClassificationEvaluator\n",
    "from pyspark.ml.feature import VectorAssembler, StandardScaler, StringIndexer, OneHotEncoder\n",
    "from pyspark.ml import Pipeline\n",
    "from pyspark.ml.tuning import ParamGridBuilder, CrossValidator\n"
   ]
  },
  {
   "cell_type": "code",
   "execution_count": 166,
   "id": "21fc2692-a279-4a2f-a7ae-af67a873058c",
   "metadata": {},
   "outputs": [],
   "source": [
    "# Veriyi eğitim ve test setlerine ayırma\n",
    "(training_data, test_data) = data_final2.randomSplit([0.7, 0.3], seed=1234)\n"
   ]
  },
  {
   "cell_type": "code",
   "execution_count": 167,
   "id": "8b2f1188-1c1c-42f4-95e3-1876a876de35",
   "metadata": {},
   "outputs": [],
   "source": [
    "# GBT modelini tanımlama\n",
    "gbt = GBTClassifier(featuresCol=\"final_features\", labelCol=\"Default\")\n",
    "\n",
    "# Hiperparametreler için Grid Search kurma\n",
    "paramGrid = ParamGridBuilder() \\\n",
    "    .addGrid(gbt.maxDepth, [5, 10]) \\\n",
    "    .addGrid(gbt.maxIter, [50, 100]) \\\n",
    "    .build()\n"
   ]
  },
  {
   "cell_type": "code",
   "execution_count": null,
   "id": "1831c5cc-475e-4d6a-acbe-15881da412e1",
   "metadata": {},
   "outputs": [],
   "source": [
    "# Evaluator ve CrossValidator tanımlama\n",
    "evaluator = BinaryClassificationEvaluator(labelCol=\"Default\", rawPredictionCol=\"rawPrediction\", metricName=\"areaUnderROC\")\n",
    "\n",
    "crossval = CrossValidator(estimator=gbt,\n",
    "                          estimatorParamMaps=paramGrid,\n",
    "                          evaluator=evaluator,\n",
    "                          numFolds=5)\n",
    "\n",
    "# Modeli eğitme\n",
    "cv_model = crossval.fit(training_data)\n"
   ]
  },
  {
   "cell_type": "code",
   "execution_count": null,
   "id": "5864f9af-ba88-451b-86de-4bf40910cdbd",
   "metadata": {},
   "outputs": [],
   "source": [
    "# Tahmin yapma\n",
    "predictions = cv_model.transform(test_data)\n",
    "\n",
    "# Modeli değerlendirme\n",
    "roc_auc = evaluator.evaluate(predictions)\n",
    "\n",
    "print(f\"ROC AUC: {roc_auc}\")\n",
    "\n",
    "\n"
   ]
  },
  {
   "cell_type": "code",
   "execution_count": null,
   "id": "0bf85771-6362-4007-a3f8-120a92abca0f",
   "metadata": {},
   "outputs": [],
   "source": [
    "# Sonuçları gösterme\n",
    "predictions.select(\"final_features\", \"rawPrediction\", \"probability\", \"prediction\").show(5)"
   ]
  },
  {
   "cell_type": "code",
   "execution_count": null,
   "id": "efdb3aac-8cfd-453d-bf27-05a17e8713b6",
   "metadata": {},
   "outputs": [],
   "source": []
  },
  {
   "cell_type": "code",
   "execution_count": null,
   "id": "33f564aa-77a0-422b-abef-9f0b013cf3f1",
   "metadata": {},
   "outputs": [],
   "source": []
  },
  {
   "cell_type": "code",
   "execution_count": null,
   "id": "6760b4a5-4fdc-4252-871d-5a7475c4640d",
   "metadata": {},
   "outputs": [],
   "source": []
  }
 ],
 "metadata": {
  "kernelspec": {
   "display_name": "Python 3 (ipykernel)",
   "language": "python",
   "name": "python3"
  },
  "language_info": {
   "codemirror_mode": {
    "name": "ipython",
    "version": 3
   },
   "file_extension": ".py",
   "mimetype": "text/x-python",
   "name": "python",
   "nbconvert_exporter": "python",
   "pygments_lexer": "ipython3",
   "version": "3.11.10"
  }
 },
 "nbformat": 4,
 "nbformat_minor": 5
}
